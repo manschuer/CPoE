{
 "cells": [
  {
   "cell_type": "code",
   "execution_count": 1,
   "metadata": {},
   "outputs": [],
   "source": [
    "%load_ext autoreload\n",
    "%autoreload 2"
   ]
  },
  {
   "cell_type": "code",
   "execution_count": 2,
   "metadata": {},
   "outputs": [],
   "source": [
    "from matplotlib import pyplot as plt\n",
    "import numpy as np"
   ]
  },
  {
   "cell_type": "code",
   "execution_count": 3,
   "metadata": {},
   "outputs": [],
   "source": [
    "import GPy, pickle"
   ]
  },
  {
   "cell_type": "code",
   "execution_count": 4,
   "metadata": {},
   "outputs": [],
   "source": [
    "import pandas as pd"
   ]
  },
  {
   "cell_type": "code",
   "execution_count": 14,
   "metadata": {},
   "outputs": [],
   "source": [
    "import time\n",
    "import gc"
   ]
  },
  {
   "cell_type": "code",
   "execution_count": 6,
   "metadata": {},
   "outputs": [],
   "source": [
    "import sys\n",
    "sys.path.insert(0, '../source')"
   ]
  },
  {
   "cell_type": "code",
   "execution_count": 7,
   "metadata": {},
   "outputs": [],
   "source": [
    "from CPoE_script_real import SCRIPT1, meanPD, sdPD, sdmPD"
   ]
  },
  {
   "cell_type": "code",
   "execution_count": null,
   "metadata": {},
   "outputs": [],
   "source": []
  },
  {
   "cell_type": "code",
   "execution_count": null,
   "metadata": {},
   "outputs": [],
   "source": []
  },
  {
   "cell_type": "markdown",
   "metadata": {},
   "source": [
    "This notebook compares CPoE and non-GP methods for the real world datasets."
   ]
  },
  {
   "cell_type": "code",
   "execution_count": null,
   "metadata": {},
   "outputs": [],
   "source": []
  },
  {
   "cell_type": "code",
   "execution_count": null,
   "metadata": {},
   "outputs": [],
   "source": []
  },
  {
   "cell_type": "code",
   "execution_count": null,
   "metadata": {},
   "outputs": [],
   "source": [
    "# IMPORTANT: We do not provide the dataset directly here due to non-authoship reasons. \n",
    "# This means, you have to run first download_data.ipynb so that the datasets are available \n",
    "# in the folder datasets."
   ]
  },
  {
   "cell_type": "code",
   "execution_count": 10,
   "metadata": {},
   "outputs": [],
   "source": [
    "%run ./download_data.ipynb"
   ]
  },
  {
   "cell_type": "code",
   "execution_count": null,
   "metadata": {},
   "outputs": [],
   "source": []
  },
  {
   "cell_type": "markdown",
   "metadata": {},
   "source": [
    "# set parameters"
   ]
  },
  {
   "cell_type": "code",
   "execution_count": 8,
   "metadata": {},
   "outputs": [],
   "source": [
    "# number of repetitions of training/test data splits\n",
    "Nrep = 2       # for the experiment in the paper, we used Nrep = 10, which takes quite some time"
   ]
  },
  {
   "cell_type": "code",
   "execution_count": 9,
   "metadata": {},
   "outputs": [],
   "source": [
    "# choose name of dataset\n",
    "dataset_names = ['concrete', 'mg', 'abalone', 'space_ga', 'kin8nm']\n",
    "name = dataset_names[0]"
   ]
  },
  {
   "cell_type": "code",
   "execution_count": 10,
   "metadata": {},
   "outputs": [],
   "source": [
    "# path to datasets (run download_data.ipynb before) and location to store the results\n",
    "path = 'datasets/'\n",
    "path_results = 'results/'"
   ]
  },
  {
   "cell_type": "code",
   "execution_count": null,
   "metadata": {},
   "outputs": [],
   "source": []
  },
  {
   "cell_type": "code",
   "execution_count": 17,
   "metadata": {},
   "outputs": [],
   "source": [
    "# set parameters for each dataset\n",
    "\n",
    "# sparsity parameter\n",
    "p = 1    \n",
    "\n",
    "# degree of correlation\n",
    "PPs = [0,1,2,3]\n",
    "\n",
    "# K0: number of experts\n",
    "# MMs: number of inducing points for sparse GPs\n",
    "\n",
    "args = {'path_results':path_results}\n",
    "kks = [1,3]\n",
    "if name=='concrete':\n",
    "    K0 = 2**2\n",
    "if name=='mg':\n",
    "    K0 = 2**3\n",
    "if name=='abalone':\n",
    "    K0 = 2**4\n",
    "if name=='space_ga':\n",
    "    K0 = 2**2\n",
    "if name=='kin8nm':\n",
    "    K0 = 2**4\n",
    "    kks = [1,2]\n",
    "    args.update( {'NtestFIX':True, 'Ntestmax':3000} )"
   ]
  },
  {
   "cell_type": "code",
   "execution_count": null,
   "metadata": {},
   "outputs": [],
   "source": []
  },
  {
   "cell_type": "markdown",
   "metadata": {},
   "source": [
    "# run non-GP methods"
   ]
  },
  {
   "cell_type": "code",
   "execution_count": 15,
   "metadata": {},
   "outputs": [
    {
     "name": "stdout",
     "output_type": "stream",
     "text": [
      "datasets/DATconcrete.csv\n",
      "concrete\n",
      "D= 8\n",
      "Ntrain= 927\n",
      "Ntest= 103\n",
      "0 rep\n",
      "1 rep\n",
      "0 rep\n",
      "1 rep\n",
      "0 rep\n",
      "1 rep\n",
      "0 rep\n",
      "1 rep\n",
      "0 rep\n",
      "1 rep\n"
     ]
    },
    {
     "data": {
      "text/plain": [
       "0"
      ]
     },
     "execution_count": 15,
     "metadata": {},
     "output_type": "execute_result"
    }
   ],
   "source": [
    "SCRIPT = SCRIPT1(path+'DAT'+name+'.csv', Nreps=Nrep, name=name, **args)\n",
    "\n",
    "resMLP, _ = SCRIPT.runNON_GP(ALG='MLP', nam='100_100', hidden_layer_sizes=(100,100))\n",
    "resMLP, _ = SCRIPT.runNON_GP(ALG='MLP', nam='500_500', hidden_layer_sizes=(500,500))\n",
    "resMLP, _ = SCRIPT.runNON_GP(ALG='MLP', nam='100_100_100', hidden_layer_sizes=(100,100,100))\n",
    "\n",
    "resLIN, _ = SCRIPT.runNON_GP(ALG='LinReg')\n",
    "resXGB, _ = SCRIPT.runNON_GP(ALG='XGboost')\n",
    "\n",
    "gc.collect()"
   ]
  },
  {
   "cell_type": "markdown",
   "metadata": {},
   "source": [
    "# run full GP and CPoE"
   ]
  },
  {
   "cell_type": "code",
   "execution_count": 18,
   "metadata": {},
   "outputs": [
    {
     "name": "stdout",
     "output_type": "stream",
     "text": [
      "datasets/DATconcrete.csv\n",
      "concrete_kern1\n",
      "D= 8\n",
      "Ntrain= 927\n",
      "Ntest= 103\n",
      "0 rep\n",
      "1 rep\n",
      "0 rep\n",
      "1 rep\n",
      "datasets/DATconcrete.csv\n",
      "concrete_kern3\n",
      "D= 8\n",
      "Ntrain= 927\n",
      "Ntest= 103\n",
      "0 rep\n",
      "1 rep\n",
      "0 rep\n",
      "1 rep\n"
     ]
    }
   ],
   "source": [
    "# loop over SE kernel and FLEX kernel\n",
    "for i in kks:\n",
    "    SCRIPT = SCRIPT1(path+'DAT'+name+'.csv', Nreps=Nrep, name=name+'_kern'+str(i), kernelMODE=i, **args)\n",
    "    resFull, pathFull = SCRIPT.runfullGP()\n",
    "    gc.collect()\n",
    "    resCPoE, pathCPoE = SCRIPT.runCPoE(K0, PPs, p)\n",
    "    gc.collect()"
   ]
  },
  {
   "cell_type": "code",
   "execution_count": null,
   "metadata": {},
   "outputs": [],
   "source": []
  },
  {
   "cell_type": "markdown",
   "metadata": {},
   "source": [
    "# reload results"
   ]
  },
  {
   "cell_type": "code",
   "execution_count": 19,
   "metadata": {},
   "outputs": [],
   "source": [
    "# reload results\n",
    "resMLP1_load = pickle.load( open( path_results+name+'_MLP100_100', 'rb' ) )\n",
    "resMLP2_load = pickle.load( open( path_results+name+'_MLP500_500', 'rb' ) )\n",
    "resMLP3_load = pickle.load( open( path_results+name+'_MLP100_100_100', 'rb' ) )\n",
    "resLinReg_load = pickle.load( open( path_results+name+'_LinReg', 'rb' ) )\n",
    "resXGboost_load = pickle.load( open( path_results+name+'_XGboost', 'rb' ) )"
   ]
  },
  {
   "cell_type": "code",
   "execution_count": 21,
   "metadata": {},
   "outputs": [],
   "source": [
    "resFull_loads = [ pickle.load( open( path_results+name+'_kern'+str(i)+'_fullGP', 'rb' ) ) for i in kks ]\n",
    "resCPoE_loads1 =  [pickle.load( open( path_results+name+'_kern'+str(kks[0])+'_CPoE_K'+str(K0)+'_P'+str(P)+'_p1', 'rb' ) ) for P in PPs]\n",
    "resCPoE_loads3 =  [pickle.load( open( path_results+name+'_kern'+str(kks[1])+'_CPoE_K'+str(K0)+'_P'+str(P)+'_p1', 'rb' ) ) for P in PPs]\n"
   ]
  },
  {
   "cell_type": "code",
   "execution_count": null,
   "metadata": {},
   "outputs": [],
   "source": []
  },
  {
   "cell_type": "code",
   "execution_count": 22,
   "metadata": {},
   "outputs": [],
   "source": [
    "# compute mean and std over the repetitions\n",
    "Mmlp1, SDml1, SDMmlp1 = sdPD(resMLP1_load)\n",
    "Mmlp2, SDml2, SDMmlp2 = sdPD(resMLP2_load)\n",
    "Mmlp3, SDml3, SDMmlp3 = sdPD(resMLP3_load)\n",
    "\n",
    "Mxgboost, _, SDMxgboost = sdPD(resXGboost_load)\n",
    "Mlr, _, SDMlr = sdPD(resLinReg_load)"
   ]
  },
  {
   "cell_type": "code",
   "execution_count": 23,
   "metadata": {},
   "outputs": [],
   "source": [
    "Mfull = pd.concat([ meanPD(x) for x in resFull_loads])\n",
    "SDMfull = pd.concat([ sdmPD(x) for x in resFull_loads])"
   ]
  },
  {
   "cell_type": "code",
   "execution_count": 24,
   "metadata": {},
   "outputs": [],
   "source": [
    "Mcpoe1 = pd.concat([ meanPD(x) for x in resCPoE_loads1])\n",
    "SDMcpoe1 = pd.concat([ sdmPD(x) for x in resCPoE_loads1])\n",
    "\n",
    "Mcpoe3 = pd.concat([ meanPD(x) for x in resCPoE_loads3])\n",
    "SDMcpoe3 = pd.concat([ sdmPD(x) for x in resCPoE_loads3])"
   ]
  },
  {
   "cell_type": "code",
   "execution_count": null,
   "metadata": {},
   "outputs": [],
   "source": []
  },
  {
   "cell_type": "code",
   "execution_count": 25,
   "metadata": {},
   "outputs": [
    {
     "data": {
      "text/html": [
       "<div>\n",
       "<style scoped>\n",
       "    .dataframe tbody tr th:only-of-type {\n",
       "        vertical-align: middle;\n",
       "    }\n",
       "\n",
       "    .dataframe tbody tr th {\n",
       "        vertical-align: top;\n",
       "    }\n",
       "\n",
       "    .dataframe thead th {\n",
       "        text-align: right;\n",
       "    }\n",
       "</style>\n",
       "<table border=\"1\" class=\"dataframe\">\n",
       "  <thead>\n",
       "    <tr style=\"text-align: right;\">\n",
       "      <th></th>\n",
       "      <th>time</th>\n",
       "      <th>RMSE</th>\n",
       "      <th>ABSE</th>\n",
       "      <th>CRPS</th>\n",
       "      <th>COV</th>\n",
       "    </tr>\n",
       "  </thead>\n",
       "  <tbody>\n",
       "    <tr>\n",
       "      <th>fullGP-SE</th>\n",
       "      <td>13.17 $\\pm$ 2.63</td>\n",
       "      <td>0.301 $\\pm$ 0.004</td>\n",
       "      <td>0.216 $\\pm$ 0.005</td>\n",
       "      <td>0.162 $\\pm$ 0.002</td>\n",
       "      <td>0.93 $\\pm$ 0.01</td>\n",
       "    </tr>\n",
       "    <tr>\n",
       "      <th>fullGP-FLEX</th>\n",
       "      <td>16.83 $\\pm$ 0.23</td>\n",
       "      <td>0.268 $\\pm$ 0.001</td>\n",
       "      <td>0.176 $\\pm$ 0.004</td>\n",
       "      <td>0.134 $\\pm$ 0.003</td>\n",
       "      <td>0.93 $\\pm$ 0.01</td>\n",
       "    </tr>\n",
       "    <tr>\n",
       "      <th>CPoE(1)-SE</th>\n",
       "      <td>2.28 $\\pm$ 0.04</td>\n",
       "      <td>0.376 $\\pm$ 0.008</td>\n",
       "      <td>0.256 $\\pm$ 0.006</td>\n",
       "      <td>0.191 $\\pm$ 0.004</td>\n",
       "      <td>0.92 $\\pm$ 0.0</td>\n",
       "    </tr>\n",
       "    <tr>\n",
       "      <th>CPoE(2)-SE</th>\n",
       "      <td>2.76 $\\pm$ 0.01</td>\n",
       "      <td>0.36 $\\pm$ 0.008</td>\n",
       "      <td>0.25 $\\pm$ 0.012</td>\n",
       "      <td>0.187 $\\pm$ 0.006</td>\n",
       "      <td>0.9 $\\pm$ 0.0</td>\n",
       "    </tr>\n",
       "    <tr>\n",
       "      <th>CPoE(3)-SE</th>\n",
       "      <td>3.3 $\\pm$ 0.02</td>\n",
       "      <td>0.351 $\\pm$ 0.009</td>\n",
       "      <td>0.246 $\\pm$ 0.011</td>\n",
       "      <td>0.184 $\\pm$ 0.006</td>\n",
       "      <td>0.91 $\\pm$ 0.0</td>\n",
       "    </tr>\n",
       "    <tr>\n",
       "      <th>CPoE(4)-SE</th>\n",
       "      <td>3.35 $\\pm$ 0.1</td>\n",
       "      <td>0.348 $\\pm$ 0.01</td>\n",
       "      <td>0.246 $\\pm$ 0.01</td>\n",
       "      <td>0.184 $\\pm$ 0.006</td>\n",
       "      <td>0.9 $\\pm$ 0.0</td>\n",
       "    </tr>\n",
       "    <tr>\n",
       "      <th>CPoE(1)-FLEX</th>\n",
       "      <td>15.93 $\\pm$ 1.09</td>\n",
       "      <td>0.29 $\\pm$ 0.003</td>\n",
       "      <td>0.184 $\\pm$ 0.006</td>\n",
       "      <td>0.14 $\\pm$ 0.005</td>\n",
       "      <td>0.93 $\\pm$ 0.01</td>\n",
       "    </tr>\n",
       "    <tr>\n",
       "      <th>CPoE(2)-FLEX</th>\n",
       "      <td>16.49 $\\pm$ 1.15</td>\n",
       "      <td>0.284 $\\pm$ 0.0</td>\n",
       "      <td>0.184 $\\pm$ 0.005</td>\n",
       "      <td>0.138 $\\pm$ 0.003</td>\n",
       "      <td>0.94 $\\pm$ 0.0</td>\n",
       "    </tr>\n",
       "    <tr>\n",
       "      <th>CPoE(3)-FLEX</th>\n",
       "      <td>16.84 $\\pm$ 1.23</td>\n",
       "      <td>0.276 $\\pm$ 0.002</td>\n",
       "      <td>0.182 $\\pm$ 0.005</td>\n",
       "      <td>0.137 $\\pm$ 0.004</td>\n",
       "      <td>0.94 $\\pm$ 0.0</td>\n",
       "    </tr>\n",
       "    <tr>\n",
       "      <th>CPoE(4)-FLEX</th>\n",
       "      <td>17.8 $\\pm$ 0.98</td>\n",
       "      <td>0.276 $\\pm$ 0.004</td>\n",
       "      <td>0.182 $\\pm$ 0.006</td>\n",
       "      <td>0.137 $\\pm$ 0.004</td>\n",
       "      <td>0.94 $\\pm$ 0.0</td>\n",
       "    </tr>\n",
       "    <tr>\n",
       "      <th>MLP(100-100)</th>\n",
       "      <td>2.7 $\\pm$ 0.42</td>\n",
       "      <td>0.291 $\\pm$ 0.008</td>\n",
       "      <td>0.21 $\\pm$ 0.007</td>\n",
       "      <td>0.0 $\\pm$ 0.0</td>\n",
       "      <td>0.0 $\\pm$ 0.0</td>\n",
       "    </tr>\n",
       "    <tr>\n",
       "      <th>MLP(500-500)</th>\n",
       "      <td>12.45 $\\pm$ 2.01</td>\n",
       "      <td>0.306 $\\pm$ 0.011</td>\n",
       "      <td>0.209 $\\pm$ 0.01</td>\n",
       "      <td>0.0 $\\pm$ 0.0</td>\n",
       "      <td>0.0 $\\pm$ 0.0</td>\n",
       "    </tr>\n",
       "    <tr>\n",
       "      <th>MLP(100-100-100)</th>\n",
       "      <td>5.02 $\\pm$ 0.07</td>\n",
       "      <td>0.306 $\\pm$ 0.002</td>\n",
       "      <td>0.212 $\\pm$ 0.001</td>\n",
       "      <td>0.0 $\\pm$ 0.0</td>\n",
       "      <td>0.0 $\\pm$ 0.0</td>\n",
       "    </tr>\n",
       "    <tr>\n",
       "      <th>XGboost</th>\n",
       "      <td>0.78 $\\pm$ 0.01</td>\n",
       "      <td>0.323 $\\pm$ 0.007</td>\n",
       "      <td>0.235 $\\pm$ 0.001</td>\n",
       "      <td>0.0 $\\pm$ 0.0</td>\n",
       "      <td>0.0 $\\pm$ 0.0</td>\n",
       "    </tr>\n",
       "    <tr>\n",
       "      <th>LinReg</th>\n",
       "      <td>0.01 $\\pm$ 0.0</td>\n",
       "      <td>0.648 $\\pm$ 0.01</td>\n",
       "      <td>0.514 $\\pm$ 0.003</td>\n",
       "      <td>0.0 $\\pm$ 0.0</td>\n",
       "      <td>0.0 $\\pm$ 0.0</td>\n",
       "    </tr>\n",
       "  </tbody>\n",
       "</table>\n",
       "</div>"
      ],
      "text/plain": [
       "                              time               RMSE               ABSE  \\\n",
       "fullGP-SE         13.17 $\\pm$ 2.63  0.301 $\\pm$ 0.004  0.216 $\\pm$ 0.005   \n",
       "fullGP-FLEX       16.83 $\\pm$ 0.23  0.268 $\\pm$ 0.001  0.176 $\\pm$ 0.004   \n",
       "CPoE(1)-SE         2.28 $\\pm$ 0.04  0.376 $\\pm$ 0.008  0.256 $\\pm$ 0.006   \n",
       "CPoE(2)-SE         2.76 $\\pm$ 0.01   0.36 $\\pm$ 0.008   0.25 $\\pm$ 0.012   \n",
       "CPoE(3)-SE          3.3 $\\pm$ 0.02  0.351 $\\pm$ 0.009  0.246 $\\pm$ 0.011   \n",
       "CPoE(4)-SE          3.35 $\\pm$ 0.1   0.348 $\\pm$ 0.01   0.246 $\\pm$ 0.01   \n",
       "CPoE(1)-FLEX      15.93 $\\pm$ 1.09   0.29 $\\pm$ 0.003  0.184 $\\pm$ 0.006   \n",
       "CPoE(2)-FLEX      16.49 $\\pm$ 1.15    0.284 $\\pm$ 0.0  0.184 $\\pm$ 0.005   \n",
       "CPoE(3)-FLEX      16.84 $\\pm$ 1.23  0.276 $\\pm$ 0.002  0.182 $\\pm$ 0.005   \n",
       "CPoE(4)-FLEX       17.8 $\\pm$ 0.98  0.276 $\\pm$ 0.004  0.182 $\\pm$ 0.006   \n",
       "MLP(100-100)        2.7 $\\pm$ 0.42  0.291 $\\pm$ 0.008   0.21 $\\pm$ 0.007   \n",
       "MLP(500-500)      12.45 $\\pm$ 2.01  0.306 $\\pm$ 0.011   0.209 $\\pm$ 0.01   \n",
       "MLP(100-100-100)   5.02 $\\pm$ 0.07  0.306 $\\pm$ 0.002  0.212 $\\pm$ 0.001   \n",
       "XGboost            0.78 $\\pm$ 0.01  0.323 $\\pm$ 0.007  0.235 $\\pm$ 0.001   \n",
       "LinReg              0.01 $\\pm$ 0.0   0.648 $\\pm$ 0.01  0.514 $\\pm$ 0.003   \n",
       "\n",
       "                               CRPS              COV  \n",
       "fullGP-SE         0.162 $\\pm$ 0.002  0.93 $\\pm$ 0.01  \n",
       "fullGP-FLEX       0.134 $\\pm$ 0.003  0.93 $\\pm$ 0.01  \n",
       "CPoE(1)-SE        0.191 $\\pm$ 0.004   0.92 $\\pm$ 0.0  \n",
       "CPoE(2)-SE        0.187 $\\pm$ 0.006    0.9 $\\pm$ 0.0  \n",
       "CPoE(3)-SE        0.184 $\\pm$ 0.006   0.91 $\\pm$ 0.0  \n",
       "CPoE(4)-SE        0.184 $\\pm$ 0.006    0.9 $\\pm$ 0.0  \n",
       "CPoE(1)-FLEX       0.14 $\\pm$ 0.005  0.93 $\\pm$ 0.01  \n",
       "CPoE(2)-FLEX      0.138 $\\pm$ 0.003   0.94 $\\pm$ 0.0  \n",
       "CPoE(3)-FLEX      0.137 $\\pm$ 0.004   0.94 $\\pm$ 0.0  \n",
       "CPoE(4)-FLEX      0.137 $\\pm$ 0.004   0.94 $\\pm$ 0.0  \n",
       "MLP(100-100)          0.0 $\\pm$ 0.0    0.0 $\\pm$ 0.0  \n",
       "MLP(500-500)          0.0 $\\pm$ 0.0    0.0 $\\pm$ 0.0  \n",
       "MLP(100-100-100)      0.0 $\\pm$ 0.0    0.0 $\\pm$ 0.0  \n",
       "XGboost               0.0 $\\pm$ 0.0    0.0 $\\pm$ 0.0  \n",
       "LinReg                0.0 $\\pm$ 0.0    0.0 $\\pm$ 0.0  "
      ]
     },
     "execution_count": 25,
     "metadata": {},
     "output_type": "execute_result"
    }
   ],
   "source": [
    "# make nice output of all results\n",
    "MMM = pd.concat([Mfull, Mcpoe1,Mcpoe3, Mmlp1, Mmlp2, Mmlp3, Mxgboost, Mlr])\n",
    "SDMMM = pd.concat([SDMfull, SDMcpoe1,SDMcpoe3, SDMmlp1,SDMmlp2, SDMmlp3, SDMxgboost,SDMlr])   \n",
    "\n",
    "# rename and round\n",
    "MMM.columns = SDMMM.columns = np.array(['time', 'LML', 'KL','ERR', 'CRPS', 'RMSE', 'ABSE', 'NLP', 'COV'])\n",
    "dictA = {'time': 2, 'LML': 1, 'KL':1, 'ERR':3, 'CRPS':3, 'RMSE':3, 'ABSE':3, 'NLP':2, 'COV':2}\n",
    "MMMr = MMM.round(dictA)\n",
    "SDMMMr = SDMMM.round(dictA)\n",
    "\n",
    "FF = MMMr.applymap(str) + ' $\\pm$ '+ SDMMMr.applymap(str)\n",
    "FF.index = ['fullGP-SE', \n",
    "            'fullGP-FLEX',\n",
    "            \\\n",
    "            'CPoE(1)-SE','CPoE(2)-SE','CPoE(3)-SE','CPoE(4)-SE',\n",
    "           'CPoE(1)-FLEX','CPoE(2)-FLEX','CPoE(3)-FLEX','CPoE(4)-FLEX',\n",
    "           'MLP(100-100)','MLP(500-500)','MLP(100-100-100)','XGboost', 'LinReg']\n",
    "GG = FF[['time','RMSE','ABSE','CRPS','COV']]\n",
    "GG"
   ]
  },
  {
   "cell_type": "code",
   "execution_count": null,
   "metadata": {},
   "outputs": [],
   "source": [
    "#(results shown here for Nrep=2, in the paper we use Nrep=5)"
   ]
  },
  {
   "cell_type": "code",
   "execution_count": null,
   "metadata": {},
   "outputs": [],
   "source": []
  },
  {
   "cell_type": "code",
   "execution_count": null,
   "metadata": {},
   "outputs": [],
   "source": []
  },
  {
   "cell_type": "code",
   "execution_count": null,
   "metadata": {},
   "outputs": [],
   "source": []
  },
  {
   "cell_type": "markdown",
   "metadata": {},
   "source": [
    "# stochastic optimization for bigger datasets"
   ]
  },
  {
   "cell_type": "code",
   "execution_count": 26,
   "metadata": {},
   "outputs": [],
   "source": [
    "# number of repetitions of training/test data splits\n",
    "Nrep = 2        # in the paper we used Nrep = 5, which takes quite some time"
   ]
  },
  {
   "cell_type": "code",
   "execution_count": 29,
   "metadata": {},
   "outputs": [],
   "source": [
    "# choose name of dataset\n",
    "dataset_names = ['kin8nm', 'cadata', 'sarcos', 'casp']\n",
    "name = dataset_names[1]"
   ]
  },
  {
   "cell_type": "code",
   "execution_count": 30,
   "metadata": {},
   "outputs": [],
   "source": [
    "# path to datasets (run download_data.ipynb before) and location to store the results\n",
    "path = 'datasets/'\n",
    "path_results = 'results/'"
   ]
  },
  {
   "cell_type": "code",
   "execution_count": null,
   "metadata": {},
   "outputs": [],
   "source": []
  },
  {
   "cell_type": "code",
   "execution_count": 37,
   "metadata": {},
   "outputs": [],
   "source": [
    "# set parameters for each dataset\n",
    "\n",
    "# sparsity parameter\n",
    "p = 1    \n",
    "\n",
    "# degree of correlation\n",
    "PPs = [0,1,2]\n",
    "# run non-GP methods\n",
    "# K0: number of experts\n",
    "# Nepochs: number of epochs of stochastic optimization\n",
    "# gamma: learning rate in SGD (adam) optimization\n",
    "\n",
    "if name=='kin8nm':\n",
    "    K0 = 2**4\n",
    "    Nepochs = 15\n",
    "    gamma = 0.03\n",
    "if name=='cadata':\n",
    "    K0 = 2**5\n",
    "    Nepochs = 15\n",
    "    gamma = 0.01\n",
    "if name=='sarcos':\n",
    "    K0 = 2**7\n",
    "    Nepochs = 10\n",
    "    gamma = 0.01\n",
    "if name=='casp':\n",
    "    K0 = 2**7\n",
    "    Nepochs = 10\n",
    "    gamma = 0.01\n",
    "args = {'path_results':path_results}"
   ]
  },
  {
   "cell_type": "code",
   "execution_count": null,
   "metadata": {},
   "outputs": [],
   "source": []
  },
  {
   "cell_type": "markdown",
   "metadata": {},
   "source": [
    "# run non-GP methods"
   ]
  },
  {
   "cell_type": "code",
   "execution_count": 33,
   "metadata": {},
   "outputs": [
    {
     "name": "stdout",
     "output_type": "stream",
     "text": [
      "datasets/DATcadata.csv\n",
      "cadataS\n",
      "D= 8\n",
      "Ntrain= 19640\n",
      "Ntest= 1000\n",
      "0 rep\n",
      "1 rep\n",
      "0 rep\n",
      "1 rep\n",
      "0 rep\n",
      "1 rep\n"
     ]
    },
    {
     "data": {
      "text/plain": [
       "0"
      ]
     },
     "execution_count": 33,
     "metadata": {},
     "output_type": "execute_result"
    }
   ],
   "source": [
    "SCRIPT = SCRIPT1(path+'DAT'+name+'.csv', Nreps=Nrep, name=name+'S', **args)\n",
    "\n",
    "resMLP, _ = SCRIPT.runNON_GP(ALG='MLP', nam='100_100', hidden_layer_sizes=(100,100))\n",
    "resMLP, _ = SCRIPT.runNON_GP(ALG='MLP', nam='500_500', hidden_layer_sizes=(500,500))\n",
    "resMLP, _ = SCRIPT.runNON_GP(ALG='MLP', nam='100_100_100', hidden_layer_sizes=(100,100,100))\n",
    "gc.collect()"
   ]
  },
  {
   "cell_type": "code",
   "execution_count": 34,
   "metadata": {},
   "outputs": [
    {
     "name": "stdout",
     "output_type": "stream",
     "text": [
      "0 rep\n",
      "1 rep\n",
      "0 rep\n",
      "1 rep\n"
     ]
    },
    {
     "data": {
      "text/plain": [
       "0"
      ]
     },
     "execution_count": 34,
     "metadata": {},
     "output_type": "execute_result"
    }
   ],
   "source": [
    "resLIN, _ = SCRIPT.runNON_GP(ALG='LinReg')\n",
    "resXGB, _ = SCRIPT.runNON_GP(ALG='XGboost')\n",
    "gc.collect()"
   ]
  },
  {
   "cell_type": "markdown",
   "metadata": {},
   "source": [
    "# run full GP and CPoE"
   ]
  },
  {
   "cell_type": "code",
   "execution_count": null,
   "metadata": {},
   "outputs": [
    {
     "data": {
      "text/plain": [
       "'Epoch 14 likelihood: -13644.761643601167 rel: 0.019655078113816303 stop?: False'"
      ]
     },
     "metadata": {},
     "output_type": "display_data"
    },
    {
     "name": "stderr",
     "output_type": "stream",
     "text": [
      " ../source/CPoE.py:379: RuntimeWarning:invalid value encountered in sqrt\n"
     ]
    }
   ],
   "source": [
    "for i in [1,2]: # loop over SE and FLEX kernel\n",
    "    SCRIPT = SCRIPT1(path+'DAT'+name+'.csv', Nreps=Nrep, FULL=False, \\\n",
    "                     name=name+'_kern'+str(i), kernelMODE=i, **args)\n",
    "    _ = SCRIPT.runCPoE(K0, PPs, p, HYPERS='STOCH',TRACE=False, gamma=gamma, E=Nepochs)\n",
    "    gc.collect()"
   ]
  },
  {
   "cell_type": "code",
   "execution_count": null,
   "metadata": {},
   "outputs": [],
   "source": []
  },
  {
   "cell_type": "markdown",
   "metadata": {},
   "source": [
    "# reload results"
   ]
  },
  {
   "cell_type": "code",
   "execution_count": null,
   "metadata": {},
   "outputs": [],
   "source": [
    "# reload computed results\n",
    "resMLP1_load = pickle.load( open( path_results+name+'S'+'_MLP100_100', 'rb' ) )\n",
    "resMLP2_load = pickle.load( open( path_results+name+'S'+'_MLP500_500', 'rb' ) )\n",
    "resMLP3_load = pickle.load( open( path_results+name+'S'+'_MLP100_100_100', 'rb' ) )\n",
    "resLinReg_load = pickle.load( open( path_results+name+'S'+'_LinReg', 'rb' ) )\n",
    "resXGboost_load = pickle.load( open( path_results+name+'S'+'_XGboost', 'rb' ) )"
   ]
  },
  {
   "cell_type": "code",
   "execution_count": null,
   "metadata": {},
   "outputs": [],
   "source": [
    "resCPoE_loads1 =  [pickle.load( open( path_results+name+'_kern'+str(1)+'_CPoE_K'+str(K0)+'_P'+str(P)+'_p1stoch', 'rb' ) ) for P in PPs]\n",
    "resCPoE_loads3 =  [pickle.load( open( path_results+name+'_kern'+str(2)+'_CPoE_K'+str(K0)+'_P'+str(P)+'_p1stoch', 'rb' ) ) for P in PPs]"
   ]
  },
  {
   "cell_type": "code",
   "execution_count": null,
   "metadata": {},
   "outputs": [],
   "source": []
  },
  {
   "cell_type": "code",
   "execution_count": null,
   "metadata": {},
   "outputs": [],
   "source": []
  },
  {
   "cell_type": "code",
   "execution_count": null,
   "metadata": {},
   "outputs": [],
   "source": [
    "# compute mean and std over the repetitions\n",
    "Mmlp1, SDml1, SDMmlp1 = sdPD(resMLP1_load)\n",
    "Mmlp2, SDml2, SDMmlp2 = sdPD(resMLP2_load)\n",
    "Mmlp3, SDml3, SDMmlp3 = sdPD(resMLP3_load)\n",
    "\n",
    "Mxgboost, _, SDMxgboost = sdPD(resXGboost_load)\n",
    "Mlr, _, SDMlr = sdPD(resLinReg_load)"
   ]
  },
  {
   "cell_type": "code",
   "execution_count": null,
   "metadata": {},
   "outputs": [],
   "source": [
    "Mcpoe1 = pd.concat([ meanPD(x) for x in resCPoE_loads1])\n",
    "SDMcpoe1 = pd.concat([ sdmPD(x) for x in resCPoE_loads1])\n",
    "\n",
    "Mcpoe3 = pd.concat([ meanPD(x) for x in resCPoE_loads3])\n",
    "SDMcpoe3 = pd.concat([ sdmPD(x) for x in resCPoE_loads3])"
   ]
  },
  {
   "cell_type": "code",
   "execution_count": null,
   "metadata": {},
   "outputs": [],
   "source": []
  },
  {
   "cell_type": "code",
   "execution_count": null,
   "metadata": {},
   "outputs": [],
   "source": [
    "# make nice output of all results\n",
    "MMM = pd.concat([Mcpoe1,Mcpoe3, Mmlp1, Mmlp2, Mmlp3, Mxgboost, Mlr]).drop(['KLx1000','errFull'],axis=1)\n",
    "SDMMM = pd.concat([SDMcpoe1,SDMcpoe3, SDMmlp1,SDMmlp2, SDMmlp3, SDMxgboost,SDMlr]).drop(['KLx1000','errFull'],axis=1)   \n",
    "\n",
    "# rename and round\n",
    "MMM.columns = SDMMM.columns = np.array(['time', 'LML', 'CRPS', 'RMSE', 'ABSE', 'NLP', 'COV'])\n",
    "dictA = {'time': 2, 'LML': 1, 'CRPS':3, 'RMSE':3, 'ABSE':3, 'NLP':2, 'COV':2}\n",
    "MMMr = MMM.round(dictA)\n",
    "SDMMMr = SDMMM.round(dictA)\n",
    "\n",
    "FF = MMMr.applymap(str) + ' $\\pm$ '+ SDMMMr.applymap(str)\n",
    "FF.index = ['CPoE(1)-SE','CPoE(2)-SE','CPoE(3)-SE',\n",
    "           'CPoE(1)-FLEX','CPoE(2)-FLEX','CPoE(3)-FLEX',\n",
    "           'MLP(100-100)','MLP(500-500)','MLP(100-100-100)','XGboost', 'LinReg']\n",
    "\n",
    "GG = FF[['time','RMSE','ABSE','CRPS','COV']]\n",
    "GG"
   ]
  },
  {
   "cell_type": "code",
   "execution_count": null,
   "metadata": {},
   "outputs": [],
   "source": []
  },
  {
   "cell_type": "code",
   "execution_count": null,
   "metadata": {},
   "outputs": [],
   "source": []
  },
  {
   "cell_type": "code",
   "execution_count": null,
   "metadata": {},
   "outputs": [],
   "source": []
  }
 ],
 "metadata": {
  "kernelspec": {
   "display_name": "Python 3",
   "language": "python",
   "name": "python3"
  },
  "language_info": {
   "codemirror_mode": {
    "name": "ipython",
    "version": 3
   },
   "file_extension": ".py",
   "mimetype": "text/x-python",
   "name": "python",
   "nbconvert_exporter": "python",
   "pygments_lexer": "ipython3",
   "version": "3.6.13"
  }
 },
 "nbformat": 4,
 "nbformat_minor": 2
}
