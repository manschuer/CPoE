{
 "cells": [
  {
   "cell_type": "code",
   "execution_count": 1,
   "metadata": {},
   "outputs": [],
   "source": [
    "%load_ext autoreload\n",
    "%autoreload 2"
   ]
  },
  {
   "cell_type": "code",
   "execution_count": 2,
   "metadata": {},
   "outputs": [],
   "source": [
    "from matplotlib import pyplot as plt\n",
    "import numpy as np"
   ]
  },
  {
   "cell_type": "code",
   "execution_count": 3,
   "metadata": {},
   "outputs": [],
   "source": [
    "import GPy, pickle"
   ]
  },
  {
   "cell_type": "code",
   "execution_count": 4,
   "metadata": {},
   "outputs": [],
   "source": [
    "import pandas as pd"
   ]
  },
  {
   "cell_type": "code",
   "execution_count": 5,
   "metadata": {},
   "outputs": [],
   "source": [
    "import time"
   ]
  },
  {
   "cell_type": "code",
   "execution_count": 6,
   "metadata": {},
   "outputs": [],
   "source": [
    "import sys\n",
    "sys.path.insert(0, '../source')"
   ]
  },
  {
   "cell_type": "code",
   "execution_count": 7,
   "metadata": {},
   "outputs": [],
   "source": [
    "from CPoE_script_real import SCRIPT1, meanPD, sdPD, sdmPD"
   ]
  },
  {
   "cell_type": "code",
   "execution_count": null,
   "metadata": {},
   "outputs": [],
   "source": []
  },
  {
   "cell_type": "markdown",
   "metadata": {},
   "source": [
    "This notebook shows how to run the CPoE for the real world datasets with deterministic optimization."
   ]
  },
  {
   "cell_type": "markdown",
   "metadata": {},
   "source": [
    "IMPORTANT: Note that, we do not provide the dataset directly here due to non-authoship reasons. This means, you have to run first download_data.ipynb so that the datasets are available in the folder datasets."
   ]
  },
  {
   "cell_type": "code",
   "execution_count": null,
   "metadata": {},
   "outputs": [],
   "source": []
  },
  {
   "cell_type": "markdown",
   "metadata": {},
   "source": [
    "# set parameters"
   ]
  },
  {
   "cell_type": "code",
   "execution_count": 8,
   "metadata": {},
   "outputs": [],
   "source": [
    "# number of repetitions of training/test data splits\n",
    "Nrep = 10        # in the paper, we used Nrep = 10, which takes quite some time"
   ]
  },
  {
   "cell_type": "code",
   "execution_count": 9,
   "metadata": {},
   "outputs": [],
   "source": [
    "# choose name of dataset\n",
    "dataset_names = ['concrete', 'mg', 'abalone', 'space_ga', 'kin8nm']\n",
    "name = dataset_names[0]"
   ]
  },
  {
   "cell_type": "code",
   "execution_count": 10,
   "metadata": {},
   "outputs": [],
   "source": [
    "# path to datasets (run download_data.ipynb before) and location to store the results\n",
    "path = 'datasets/'\n",
    "path_results = 'results/'"
   ]
  },
  {
   "cell_type": "code",
   "execution_count": null,
   "metadata": {},
   "outputs": [],
   "source": []
  },
  {
   "cell_type": "code",
   "execution_count": 11,
   "metadata": {},
   "outputs": [],
   "source": [
    "# set parameters for each dataset\n",
    "\n",
    "# sparsity parameter\n",
    "p = 1    \n",
    "\n",
    "# degree of correlation\n",
    "PPs = [0,1,2,3]\n",
    "\n",
    "# K0: number of experts\n",
    "# MMs: number of inducing points for sparse GPs\n",
    "\n",
    "args = {'path_results':path_results}\n",
    "if name=='concrete':\n",
    "    K0 = 2**2\n",
    "    MMs = np.array([25, 50, 100])\n",
    "if name=='mg':\n",
    "    K0 = 2**3\n",
    "    MMs = np.array([25, 50, 100]) \n",
    "if name=='abalone':\n",
    "    K0 = 2**4\n",
    "    MMs = np.array([20, 50, 100])\n",
    "if name=='space_ga':\n",
    "    K0 = 2**2\n",
    "    MMs = np.array([50, 100, 150]) \n",
    "if name=='kin8nm':\n",
    "    K0 = 2**4\n",
    "    MMs = np.array([50, 100, 200, 300]) \n",
    "    args.update( {'NtestFIX':True, 'Ntestmax':3000} )"
   ]
  },
  {
   "cell_type": "code",
   "execution_count": 12,
   "metadata": {},
   "outputs": [
    {
     "name": "stdout",
     "output_type": "stream",
     "text": [
      "datasets/DATconcrete.csv\n",
      "concrete\n",
      "D= 8\n",
      "Ntrain= 927\n",
      "Ntest= 103\n"
     ]
    }
   ],
   "source": [
    "SCRIPT = SCRIPT1(path+'DAT'+name+'.csv', Nreps=Nrep, name=name, **args)"
   ]
  },
  {
   "cell_type": "code",
   "execution_count": null,
   "metadata": {},
   "outputs": [],
   "source": []
  },
  {
   "cell_type": "markdown",
   "metadata": {},
   "source": [
    "# run full GP, CPoE, PoE, SGP"
   ]
  },
  {
   "cell_type": "code",
   "execution_count": 13,
   "metadata": {},
   "outputs": [],
   "source": [
    "# the results are automatically stored in folder results"
   ]
  },
  {
   "cell_type": "code",
   "execution_count": 23,
   "metadata": {},
   "outputs": [],
   "source": [
    "# run full GP\n",
    "resFull, pathFull = SCRIPT.runfullGP()"
   ]
  },
  {
   "cell_type": "code",
   "execution_count": 24,
   "metadata": {
    "scrolled": true
   },
   "outputs": [],
   "source": [
    "# run correlated PoE\n",
    "resCPoE, pathCPoE = SCRIPT.runCPoE(K0, PPs, p)"
   ]
  },
  {
   "cell_type": "code",
   "execution_count": 25,
   "metadata": {},
   "outputs": [],
   "source": [
    "# run independent PoEs\n",
    "resPoE, pathPoE = SCRIPT.runPoE(K0)"
   ]
  },
  {
   "cell_type": "code",
   "execution_count": 26,
   "metadata": {},
   "outputs": [],
   "source": [
    "# run sparse GP\n",
    "resSGP, pathSGP = SCRIPT.runSparseGP(MMs)"
   ]
  },
  {
   "cell_type": "code",
   "execution_count": null,
   "metadata": {},
   "outputs": [],
   "source": []
  },
  {
   "cell_type": "markdown",
   "metadata": {},
   "source": [
    "# reload results"
   ]
  },
  {
   "cell_type": "code",
   "execution_count": 18,
   "metadata": {},
   "outputs": [],
   "source": [
    "# reload computed results\n",
    "resFull_load = pickle.load( open( path_results+name+'_fullGP', 'rb' ) )\n",
    "resCPoE_loads =  [pickle.load( open( path_results+name+'_CPoE_K'+str(K0)+'_P'+str(P)+'_p1', 'rb' ) ) for P in PPs]\n",
    "resPoE_load = pickle.load( open(path_results+name+ '_PoE_K'+str(K0), 'rb' ) )\n",
    "resSGP_load = pickle.load( open(path_results+name+ '_SGP', 'rb' ) )"
   ]
  },
  {
   "cell_type": "code",
   "execution_count": null,
   "metadata": {},
   "outputs": [],
   "source": []
  },
  {
   "cell_type": "code",
   "execution_count": 19,
   "metadata": {},
   "outputs": [],
   "source": [
    "# compute mean and std over the repetitions\n",
    "Mfull, SDfull, SDMfull = sdPD(resFull_load)\n",
    "Mindep, SDindep, SDMindep = sdPD(resPoE_load)\n",
    "Msparse, SDsparse, SDMsparse = sdPD(resSGP_load)\n",
    "Mcpoe = pd.concat([ meanPD(x) for x in resCPoE_loads])\n",
    "SDMcpoe = pd.concat([ sdmPD(x) for x in resCPoE_loads])"
   ]
  },
  {
   "cell_type": "code",
   "execution_count": 39,
   "metadata": {},
   "outputs": [
    {
     "data": {
      "text/html": [
       "<div>\n",
       "<style scoped>\n",
       "    .dataframe tbody tr th:only-of-type {\n",
       "        vertical-align: middle;\n",
       "    }\n",
       "\n",
       "    .dataframe tbody tr th {\n",
       "        vertical-align: top;\n",
       "    }\n",
       "\n",
       "    .dataframe thead th {\n",
       "        text-align: right;\n",
       "    }\n",
       "</style>\n",
       "<table border=\"1\" class=\"dataframe\">\n",
       "  <thead>\n",
       "    <tr style=\"text-align: right;\">\n",
       "      <th></th>\n",
       "      <th>time</th>\n",
       "      <th>LML</th>\n",
       "      <th>KL</th>\n",
       "      <th>ERR</th>\n",
       "      <th>CRPS</th>\n",
       "      <th>RMSE</th>\n",
       "      <th>ABSE</th>\n",
       "      <th>NLP</th>\n",
       "      <th>COV</th>\n",
       "    </tr>\n",
       "  </thead>\n",
       "  <tbody>\n",
       "    <tr>\n",
       "      <th>fullGP</th>\n",
       "      <td>13.7 $\\pm$ 1.1</td>\n",
       "      <td>-314.2 $\\pm$ 5.1</td>\n",
       "      <td>0.0 $\\pm$ 0.0</td>\n",
       "      <td>0.0 $\\pm$ 0.0</td>\n",
       "      <td>0.162 $\\pm$ 0.004</td>\n",
       "      <td>0.311 $\\pm$ 0.011</td>\n",
       "      <td>0.218 $\\pm$ 0.005</td>\n",
       "      <td>0.47 $\\pm$ 0.12</td>\n",
       "      <td>0.92 $\\pm$ 0.01</td>\n",
       "    </tr>\n",
       "    <tr>\n",
       "      <th>sparse25</th>\n",
       "      <td>6.0 $\\pm$ 0.6</td>\n",
       "      <td>-595.8 $\\pm$ 10.7</td>\n",
       "      <td>439.2 $\\pm$ 20.0</td>\n",
       "      <td>0.313 $\\pm$ 0.009</td>\n",
       "      <td>0.234 $\\pm$ 0.005</td>\n",
       "      <td>0.422 $\\pm$ 0.01</td>\n",
       "      <td>0.324 $\\pm$ 0.005</td>\n",
       "      <td>1.11 $\\pm$ 0.04</td>\n",
       "      <td>0.96 $\\pm$ 0.01</td>\n",
       "    </tr>\n",
       "    <tr>\n",
       "      <th>sparse50</th>\n",
       "      <td>8.7 $\\pm$ 1.1</td>\n",
       "      <td>-539.7 $\\pm$ 10.1</td>\n",
       "      <td>405.4 $\\pm$ 31.2</td>\n",
       "      <td>0.291 $\\pm$ 0.012</td>\n",
       "      <td>0.222 $\\pm$ 0.004</td>\n",
       "      <td>0.402 $\\pm$ 0.008</td>\n",
       "      <td>0.308 $\\pm$ 0.005</td>\n",
       "      <td>1.01 $\\pm$ 0.03</td>\n",
       "      <td>0.95 $\\pm$ 0.01</td>\n",
       "    </tr>\n",
       "    <tr>\n",
       "      <th>sparse100</th>\n",
       "      <td>15.2 $\\pm$ 1.5</td>\n",
       "      <td>-494.5 $\\pm$ 7.9</td>\n",
       "      <td>352.6 $\\pm$ 29.6</td>\n",
       "      <td>0.264 $\\pm$ 0.011</td>\n",
       "      <td>0.211 $\\pm$ 0.004</td>\n",
       "      <td>0.385 $\\pm$ 0.007</td>\n",
       "      <td>0.292 $\\pm$ 0.006</td>\n",
       "      <td>0.92 $\\pm$ 0.03</td>\n",
       "      <td>0.95 $\\pm$ 0.01</td>\n",
       "    </tr>\n",
       "    <tr>\n",
       "      <th>minVar</th>\n",
       "      <td>2.8 $\\pm$ 0.1</td>\n",
       "      <td>-389.8 $\\pm$ 2.9</td>\n",
       "      <td>122.2 $\\pm$ 13.1</td>\n",
       "      <td>0.156 $\\pm$ 0.012</td>\n",
       "      <td>0.175 $\\pm$ 0.004</td>\n",
       "      <td>0.335 $\\pm$ 0.011</td>\n",
       "      <td>0.236 $\\pm$ 0.005</td>\n",
       "      <td>0.61 $\\pm$ 0.09</td>\n",
       "      <td>0.92 $\\pm$ 0.01</td>\n",
       "    </tr>\n",
       "    <tr>\n",
       "      <th>GPoE-scaled</th>\n",
       "      <td>2.7 $\\pm$ 0.1</td>\n",
       "      <td>-389.8 $\\pm$ 2.9</td>\n",
       "      <td>174.4 $\\pm$ 9.4</td>\n",
       "      <td>0.166 $\\pm$ 0.01</td>\n",
       "      <td>0.186 $\\pm$ 0.004</td>\n",
       "      <td>0.342 $\\pm$ 0.01</td>\n",
       "      <td>0.255 $\\pm$ 0.007</td>\n",
       "      <td>0.68 $\\pm$ 0.05</td>\n",
       "      <td>0.96 $\\pm$ 0.01</td>\n",
       "    </tr>\n",
       "    <tr>\n",
       "      <th>BCM</th>\n",
       "      <td>2.7 $\\pm$ 0.1</td>\n",
       "      <td>-389.8 $\\pm$ 2.9</td>\n",
       "      <td>338.1 $\\pm$ 32.7</td>\n",
       "      <td>0.185 $\\pm$ 0.012</td>\n",
       "      <td>0.195 $\\pm$ 0.005</td>\n",
       "      <td>0.354 $\\pm$ 0.01</td>\n",
       "      <td>0.265 $\\pm$ 0.007</td>\n",
       "      <td>1.16 $\\pm$ 0.12</td>\n",
       "      <td>0.82 $\\pm$ 0.01</td>\n",
       "    </tr>\n",
       "    <tr>\n",
       "      <th>RBCM</th>\n",
       "      <td>2.7 $\\pm$ 0.1</td>\n",
       "      <td>-389.8 $\\pm$ 2.9</td>\n",
       "      <td>427.9 $\\pm$ 35.0</td>\n",
       "      <td>0.166 $\\pm$ 0.013</td>\n",
       "      <td>0.187 $\\pm$ 0.005</td>\n",
       "      <td>0.342 $\\pm$ 0.011</td>\n",
       "      <td>0.249 $\\pm$ 0.006</td>\n",
       "      <td>1.43 $\\pm$ 0.21</td>\n",
       "      <td>0.79 $\\pm$ 0.01</td>\n",
       "    </tr>\n",
       "    <tr>\n",
       "      <th>GRBCM</th>\n",
       "      <td>3.2 $\\pm$ 0.1</td>\n",
       "      <td>-465.0 $\\pm$ 3.1</td>\n",
       "      <td>224.6 $\\pm$ 30.3</td>\n",
       "      <td>0.202 $\\pm$ 0.011</td>\n",
       "      <td>0.19 $\\pm$ 0.004</td>\n",
       "      <td>0.352 $\\pm$ 0.01</td>\n",
       "      <td>0.262 $\\pm$ 0.006</td>\n",
       "      <td>0.71 $\\pm$ 0.05</td>\n",
       "      <td>0.92 $\\pm$ 0.01</td>\n",
       "    </tr>\n",
       "    <tr>\n",
       "      <th>CPoE(1)</th>\n",
       "      <td>2.2 $\\pm$ 0.2</td>\n",
       "      <td>-397.0 $\\pm$ 2.8</td>\n",
       "      <td>113.0 $\\pm$ 12.1</td>\n",
       "      <td>0.149 $\\pm$ 0.011</td>\n",
       "      <td>0.175 $\\pm$ 0.004</td>\n",
       "      <td>0.333 $\\pm$ 0.011</td>\n",
       "      <td>0.236 $\\pm$ 0.006</td>\n",
       "      <td>0.59 $\\pm$ 0.09</td>\n",
       "      <td>0.92 $\\pm$ 0.01</td>\n",
       "    </tr>\n",
       "    <tr>\n",
       "      <th>CPoE(2)</th>\n",
       "      <td>2.6 $\\pm$ 0.1</td>\n",
       "      <td>-346.9 $\\pm$ 5.5</td>\n",
       "      <td>89.5 $\\pm$ 14.2</td>\n",
       "      <td>0.124 $\\pm$ 0.013</td>\n",
       "      <td>0.171 $\\pm$ 0.004</td>\n",
       "      <td>0.326 $\\pm$ 0.011</td>\n",
       "      <td>0.231 $\\pm$ 0.006</td>\n",
       "      <td>0.59 $\\pm$ 0.1</td>\n",
       "      <td>0.91 $\\pm$ 0.01</td>\n",
       "    </tr>\n",
       "    <tr>\n",
       "      <th>CPoE(3)</th>\n",
       "      <td>2.9 $\\pm$ 0.1</td>\n",
       "      <td>-339.7 $\\pm$ 5.1</td>\n",
       "      <td>82.3 $\\pm$ 14.4</td>\n",
       "      <td>0.115 $\\pm$ 0.013</td>\n",
       "      <td>0.17 $\\pm$ 0.004</td>\n",
       "      <td>0.323 $\\pm$ 0.01</td>\n",
       "      <td>0.23 $\\pm$ 0.005</td>\n",
       "      <td>0.58 $\\pm$ 0.1</td>\n",
       "      <td>0.91 $\\pm$ 0.01</td>\n",
       "    </tr>\n",
       "    <tr>\n",
       "      <th>CPoE(4)</th>\n",
       "      <td>3.2 $\\pm$ 0.2</td>\n",
       "      <td>-343.0 $\\pm$ 4.2</td>\n",
       "      <td>80.0 $\\pm$ 14.1</td>\n",
       "      <td>0.112 $\\pm$ 0.012</td>\n",
       "      <td>0.171 $\\pm$ 0.004</td>\n",
       "      <td>0.324 $\\pm$ 0.011</td>\n",
       "      <td>0.231 $\\pm$ 0.005</td>\n",
       "      <td>0.59 $\\pm$ 0.1</td>\n",
       "      <td>0.91 $\\pm$ 0.01</td>\n",
       "    </tr>\n",
       "  </tbody>\n",
       "</table>\n",
       "</div>"
      ],
      "text/plain": [
       "                       time                LML                KL  \\\n",
       "fullGP       13.7 $\\pm$ 1.1   -314.2 $\\pm$ 5.1     0.0 $\\pm$ 0.0   \n",
       "sparse25      6.0 $\\pm$ 0.6  -595.8 $\\pm$ 10.7  439.2 $\\pm$ 20.0   \n",
       "sparse50      8.7 $\\pm$ 1.1  -539.7 $\\pm$ 10.1  405.4 $\\pm$ 31.2   \n",
       "sparse100    15.2 $\\pm$ 1.5   -494.5 $\\pm$ 7.9  352.6 $\\pm$ 29.6   \n",
       "minVar        2.8 $\\pm$ 0.1   -389.8 $\\pm$ 2.9  122.2 $\\pm$ 13.1   \n",
       "GPoE-scaled   2.7 $\\pm$ 0.1   -389.8 $\\pm$ 2.9   174.4 $\\pm$ 9.4   \n",
       "BCM           2.7 $\\pm$ 0.1   -389.8 $\\pm$ 2.9  338.1 $\\pm$ 32.7   \n",
       "RBCM          2.7 $\\pm$ 0.1   -389.8 $\\pm$ 2.9  427.9 $\\pm$ 35.0   \n",
       "GRBCM         3.2 $\\pm$ 0.1   -465.0 $\\pm$ 3.1  224.6 $\\pm$ 30.3   \n",
       "CPoE(1)       2.2 $\\pm$ 0.2   -397.0 $\\pm$ 2.8  113.0 $\\pm$ 12.1   \n",
       "CPoE(2)       2.6 $\\pm$ 0.1   -346.9 $\\pm$ 5.5   89.5 $\\pm$ 14.2   \n",
       "CPoE(3)       2.9 $\\pm$ 0.1   -339.7 $\\pm$ 5.1   82.3 $\\pm$ 14.4   \n",
       "CPoE(4)       3.2 $\\pm$ 0.2   -343.0 $\\pm$ 4.2   80.0 $\\pm$ 14.1   \n",
       "\n",
       "                           ERR               CRPS               RMSE  \\\n",
       "fullGP           0.0 $\\pm$ 0.0  0.162 $\\pm$ 0.004  0.311 $\\pm$ 0.011   \n",
       "sparse25     0.313 $\\pm$ 0.009  0.234 $\\pm$ 0.005   0.422 $\\pm$ 0.01   \n",
       "sparse50     0.291 $\\pm$ 0.012  0.222 $\\pm$ 0.004  0.402 $\\pm$ 0.008   \n",
       "sparse100    0.264 $\\pm$ 0.011  0.211 $\\pm$ 0.004  0.385 $\\pm$ 0.007   \n",
       "minVar       0.156 $\\pm$ 0.012  0.175 $\\pm$ 0.004  0.335 $\\pm$ 0.011   \n",
       "GPoE-scaled   0.166 $\\pm$ 0.01  0.186 $\\pm$ 0.004   0.342 $\\pm$ 0.01   \n",
       "BCM          0.185 $\\pm$ 0.012  0.195 $\\pm$ 0.005   0.354 $\\pm$ 0.01   \n",
       "RBCM         0.166 $\\pm$ 0.013  0.187 $\\pm$ 0.005  0.342 $\\pm$ 0.011   \n",
       "GRBCM        0.202 $\\pm$ 0.011   0.19 $\\pm$ 0.004   0.352 $\\pm$ 0.01   \n",
       "CPoE(1)      0.149 $\\pm$ 0.011  0.175 $\\pm$ 0.004  0.333 $\\pm$ 0.011   \n",
       "CPoE(2)      0.124 $\\pm$ 0.013  0.171 $\\pm$ 0.004  0.326 $\\pm$ 0.011   \n",
       "CPoE(3)      0.115 $\\pm$ 0.013   0.17 $\\pm$ 0.004   0.323 $\\pm$ 0.01   \n",
       "CPoE(4)      0.112 $\\pm$ 0.012  0.171 $\\pm$ 0.004  0.324 $\\pm$ 0.011   \n",
       "\n",
       "                          ABSE              NLP              COV  \n",
       "fullGP       0.218 $\\pm$ 0.005  0.47 $\\pm$ 0.12  0.92 $\\pm$ 0.01  \n",
       "sparse25     0.324 $\\pm$ 0.005  1.11 $\\pm$ 0.04  0.96 $\\pm$ 0.01  \n",
       "sparse50     0.308 $\\pm$ 0.005  1.01 $\\pm$ 0.03  0.95 $\\pm$ 0.01  \n",
       "sparse100    0.292 $\\pm$ 0.006  0.92 $\\pm$ 0.03  0.95 $\\pm$ 0.01  \n",
       "minVar       0.236 $\\pm$ 0.005  0.61 $\\pm$ 0.09  0.92 $\\pm$ 0.01  \n",
       "GPoE-scaled  0.255 $\\pm$ 0.007  0.68 $\\pm$ 0.05  0.96 $\\pm$ 0.01  \n",
       "BCM          0.265 $\\pm$ 0.007  1.16 $\\pm$ 0.12  0.82 $\\pm$ 0.01  \n",
       "RBCM         0.249 $\\pm$ 0.006  1.43 $\\pm$ 0.21  0.79 $\\pm$ 0.01  \n",
       "GRBCM        0.262 $\\pm$ 0.006  0.71 $\\pm$ 0.05  0.92 $\\pm$ 0.01  \n",
       "CPoE(1)      0.236 $\\pm$ 0.006  0.59 $\\pm$ 0.09  0.92 $\\pm$ 0.01  \n",
       "CPoE(2)      0.231 $\\pm$ 0.006   0.59 $\\pm$ 0.1  0.91 $\\pm$ 0.01  \n",
       "CPoE(3)       0.23 $\\pm$ 0.005   0.58 $\\pm$ 0.1  0.91 $\\pm$ 0.01  \n",
       "CPoE(4)      0.231 $\\pm$ 0.005   0.59 $\\pm$ 0.1  0.91 $\\pm$ 0.01  "
      ]
     },
     "execution_count": 39,
     "metadata": {},
     "output_type": "execute_result"
    }
   ],
   "source": [
    "# make nice output of all results\n",
    "MMM = pd.concat([Mfull, Msparse, Mindep, Mcpoe])\n",
    "SDMMM = pd.concat([SDMfull, SDMsparse, SDMindep, SDMcpoe])   \n",
    "\n",
    "# rename and round\n",
    "MMM.columns = SDMMM.columns = np.array(['time', 'LML', 'KL','ERR', 'CRPS', 'RMSE', 'ABSE', 'NLP', 'COV'])\n",
    "dictA = {'time': 1, 'LML': 1, 'KL':1, 'ERR':3, 'CRPS':3, 'RMSE':3, 'ABSE':3, 'NLP':2, 'COV':2}\n",
    "MMMr = MMM.round(dictA)\n",
    "SDMMMr = SDMMM.round(dictA)\n",
    "\n",
    "# combine results\n",
    "FF = MMMr.applymap(str) + ' $\\pm$ '+ SDMMMr.applymap(str)\n",
    "FF"
   ]
  },
  {
   "cell_type": "code",
   "execution_count": null,
   "metadata": {},
   "outputs": [],
   "source": []
  },
  {
   "cell_type": "code",
   "execution_count": 21,
   "metadata": {},
   "outputs": [],
   "source": [
    "# save .tex results"
   ]
  },
  {
   "cell_type": "code",
   "execution_count": 22,
   "metadata": {},
   "outputs": [],
   "source": [
    "#file1 = open(path_results+name+'_s.tex','w')\n",
    "#file1.write(GG.to_latex(escape=False))\n",
    "#file1.close();"
   ]
  },
  {
   "cell_type": "code",
   "execution_count": null,
   "metadata": {},
   "outputs": [],
   "source": []
  }
 ],
 "metadata": {
  "kernelspec": {
   "display_name": "Python 3",
   "language": "python",
   "name": "python3"
  },
  "language_info": {
   "codemirror_mode": {
    "name": "ipython",
    "version": 3
   },
   "file_extension": ".py",
   "mimetype": "text/x-python",
   "name": "python",
   "nbconvert_exporter": "python",
   "pygments_lexer": "ipython3",
   "version": "3.6.13"
  }
 },
 "nbformat": 4,
 "nbformat_minor": 2
}
