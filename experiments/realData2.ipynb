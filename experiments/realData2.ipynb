{
 "cells": [
  {
   "cell_type": "code",
   "execution_count": 1,
   "metadata": {},
   "outputs": [],
   "source": [
    "%load_ext autoreload\n",
    "%autoreload 2"
   ]
  },
  {
   "cell_type": "code",
   "execution_count": 2,
   "metadata": {},
   "outputs": [],
   "source": [
    "from matplotlib import pyplot as plt\n",
    "import numpy as np"
   ]
  },
  {
   "cell_type": "code",
   "execution_count": 3,
   "metadata": {},
   "outputs": [],
   "source": [
    "import GPy, pickle"
   ]
  },
  {
   "cell_type": "code",
   "execution_count": 4,
   "metadata": {},
   "outputs": [],
   "source": [
    "import pandas as pd"
   ]
  },
  {
   "cell_type": "code",
   "execution_count": 5,
   "metadata": {},
   "outputs": [],
   "source": [
    "import time"
   ]
  },
  {
   "cell_type": "code",
   "execution_count": 6,
   "metadata": {},
   "outputs": [],
   "source": [
    "import sys\n",
    "sys.path.insert(0, '../source')"
   ]
  },
  {
   "cell_type": "code",
   "execution_count": 7,
   "metadata": {},
   "outputs": [],
   "source": [
    "from CPoE_script_real import SCRIPT1, meanPD, sdPD, sdmPD"
   ]
  },
  {
   "cell_type": "code",
   "execution_count": null,
   "metadata": {},
   "outputs": [],
   "source": []
  },
  {
   "cell_type": "markdown",
   "metadata": {},
   "source": [
    "This notebook shows how to run the CPoE for the real world datasets with stochastic optimization."
   ]
  },
  {
   "cell_type": "code",
   "execution_count": null,
   "metadata": {},
   "outputs": [],
   "source": []
  },
  {
   "cell_type": "code",
   "execution_count": null,
   "metadata": {},
   "outputs": [],
   "source": [
    "# IMPORTANT: We do not provide the dataset directly here due to non-authoship reasons. \n",
    "# This means, you have to run first download_data.ipynb so that the datasets are available \n",
    "# in the folder datasets."
   ]
  },
  {
   "cell_type": "code",
   "execution_count": null,
   "metadata": {},
   "outputs": [],
   "source": [
    "%run ./download_data.ipynb"
   ]
  },
  {
   "cell_type": "code",
   "execution_count": null,
   "metadata": {},
   "outputs": [],
   "source": []
  },
  {
   "cell_type": "markdown",
   "metadata": {},
   "source": [
    "# set parameters"
   ]
  },
  {
   "cell_type": "code",
   "execution_count": null,
   "metadata": {},
   "outputs": [],
   "source": []
  },
  {
   "cell_type": "code",
   "execution_count": 8,
   "metadata": {},
   "outputs": [],
   "source": [
    "# number of repetitions of training/test data splits\n",
    "Nrep = 2        # in the paper, we used Nrep = 5, which takes quite some time"
   ]
  },
  {
   "cell_type": "code",
   "execution_count": 9,
   "metadata": {},
   "outputs": [],
   "source": [
    "# choose name of dataset\n",
    "dataset_names = ['kin8nm', 'cadata', 'sarcos', 'casp']\n",
    "name = dataset_names[0]"
   ]
  },
  {
   "cell_type": "code",
   "execution_count": 10,
   "metadata": {},
   "outputs": [],
   "source": [
    "# path to datasets (run download_data.ipynb before) and location to store the results\n",
    "path = 'datasets/'\n",
    "path_results = 'results/'"
   ]
  },
  {
   "cell_type": "code",
   "execution_count": null,
   "metadata": {},
   "outputs": [],
   "source": []
  },
  {
   "cell_type": "code",
   "execution_count": 11,
   "metadata": {},
   "outputs": [],
   "source": [
    "# set parameters for each dataset\n",
    "\n",
    "# sparsity parameter\n",
    "p = 1    \n",
    "\n",
    "# degree of correlation\n",
    "PPs = [0,1,2]\n",
    "\n",
    "# MMs: number of inducing points for sparse GPs\n",
    "MMs = np.array([ 250, 500, 1000]) \n",
    "\n",
    "# K0: number of experts\n",
    "# Nepochs: number of epochs of stochastic optimization\n",
    "# gamma: learning rate in SGD (adam) optimization\n",
    "\n",
    "if name=='kin8nm':\n",
    "    K0 = 2**4\n",
    "    Nepochs = 15\n",
    "    gamma = 0.03\n",
    "if name=='cadata':\n",
    "    K0 = 2**5\n",
    "    Nepochs = 15\n",
    "    gamma = 0.01\n",
    "if name=='sarcos':\n",
    "    K0 = 2**7\n",
    "    Nepochs = 10\n",
    "    gamma = 0.01\n",
    "if name=='casp':\n",
    "    K0 = 2**7\n",
    "    Nepochs = 10\n",
    "    gamma = 0.01\n",
    "args = {'path_results':path_results}"
   ]
  },
  {
   "cell_type": "code",
   "execution_count": 12,
   "metadata": {
    "scrolled": true
   },
   "outputs": [
    {
     "name": "stdout",
     "output_type": "stream",
     "text": [
      "datasets/DATkin8nm.csv\n",
      "kin8nm\n",
      "D= 8\n",
      "Ntrain= 7373\n",
      "Ntest= 819\n"
     ]
    }
   ],
   "source": [
    "SCRIPT = SCRIPT1(path+'DAT'+name+'.csv', Nreps=Nrep, name=name, FULL=False, **args)"
   ]
  },
  {
   "cell_type": "code",
   "execution_count": null,
   "metadata": {},
   "outputs": [],
   "source": []
  },
  {
   "cell_type": "markdown",
   "metadata": {},
   "source": [
    "# run CPoE, PoE, SGP"
   ]
  },
  {
   "cell_type": "code",
   "execution_count": 13,
   "metadata": {},
   "outputs": [
    {
     "data": {
      "text/plain": [
       "'Epoch 14 likelihood: -3418.0319727373358 rel: 0.0014058051673002507 stop?: False'"
      ]
     },
     "metadata": {},
     "output_type": "display_data"
    }
   ],
   "source": [
    "# run correlated PoEs\n",
    "_ = SCRIPT.runCPoE(K0, PPs, p, HYPERS='STOCH',TRACE=False, gamma=gamma, E=Nepochs)"
   ]
  },
  {
   "cell_type": "code",
   "execution_count": 14,
   "metadata": {},
   "outputs": [
    {
     "data": {
      "text/plain": [
       "'Epoch 14 likelihood: -3418.0319727373358 rel: 0.0014058051673002507 stop?: False'"
      ]
     },
     "metadata": {},
     "output_type": "display_data"
    }
   ],
   "source": [
    "# run independent PoEs\n",
    "_ = SCRIPT.runPoE(K0, HYPERS='STOCH',TRACE=False, gamma=gamma, E=Nepochs)"
   ]
  },
  {
   "cell_type": "code",
   "execution_count": 17,
   "metadata": {},
   "outputs": [],
   "source": [
    "# run stochastic sparse GP\n",
    "_ = SCRIPT.runSparseGPfact(MMs, K0, HYPERS='STOCH',TRACE=False, gamma=gamma, E=Nepochs, rec=True)#"
   ]
  },
  {
   "cell_type": "code",
   "execution_count": null,
   "metadata": {},
   "outputs": [],
   "source": []
  },
  {
   "cell_type": "markdown",
   "metadata": {},
   "source": [
    "# reload results"
   ]
  },
  {
   "cell_type": "code",
   "execution_count": 14,
   "metadata": {},
   "outputs": [],
   "source": [
    "# reload computed results\n",
    "resPoE_stoch_load = pickle.load( open(path_results+name+ '_PoE_K'+str(K0)+'stoch', 'rb' ) )\n",
    "resSGP_stoch_load = pickle.load( open(path_results+name+ '_SGP'+'stochstoch', 'rb' ) )\n",
    "resCPoE_stoch_loads =  [pickle.load( open( path_results+name+'_CPoE_K'+str(K0)+'_P'+str(P)+'_p1'+'stoch', 'rb' ) ) for P in PPs]"
   ]
  },
  {
   "cell_type": "code",
   "execution_count": null,
   "metadata": {},
   "outputs": [],
   "source": []
  },
  {
   "cell_type": "code",
   "execution_count": 15,
   "metadata": {},
   "outputs": [],
   "source": [
    "# compute mean and std over the repetitions\n",
    "Mindep, SDindep, SDMindep = sdPD(resPoE_stoch_load)\n",
    "Msparse, SDsparse, SDMsparse = sdPD(resSGP_stoch_load)\n",
    "Mcpoe = pd.concat([ meanPD(x) for x in resCPoE_stoch_loads])\n",
    "SDMcpoe = pd.concat([ sdmPD(x) for x in resCPoE_stoch_loads])"
   ]
  },
  {
   "cell_type": "code",
   "execution_count": 16,
   "metadata": {},
   "outputs": [
    {
     "data": {
      "text/html": [
       "<div>\n",
       "<style scoped>\n",
       "    .dataframe tbody tr th:only-of-type {\n",
       "        vertical-align: middle;\n",
       "    }\n",
       "\n",
       "    .dataframe tbody tr th {\n",
       "        vertical-align: top;\n",
       "    }\n",
       "\n",
       "    .dataframe thead th {\n",
       "        text-align: right;\n",
       "    }\n",
       "</style>\n",
       "<table border=\"1\" class=\"dataframe\">\n",
       "  <thead>\n",
       "    <tr style=\"text-align: right;\">\n",
       "      <th></th>\n",
       "      <th>time</th>\n",
       "      <th>LML</th>\n",
       "      <th>CRPS</th>\n",
       "      <th>RMSE</th>\n",
       "      <th>ABSE</th>\n",
       "      <th>NLP</th>\n",
       "      <th>COV</th>\n",
       "    </tr>\n",
       "  </thead>\n",
       "  <tbody>\n",
       "    <tr>\n",
       "      <th>sparseFactstoch</th>\n",
       "      <td>40.7 $\\pm$ 0.9</td>\n",
       "      <td>-4162.3 $\\pm$ 30.7</td>\n",
       "      <td>0.213 $\\pm$ 0.003</td>\n",
       "      <td>0.377 $\\pm$ 0.006</td>\n",
       "      <td>0.292 $\\pm$ 0.003</td>\n",
       "      <td>0.96 $\\pm$ 0.02</td>\n",
       "      <td>0.98 $\\pm$ 0.0</td>\n",
       "    </tr>\n",
       "    <tr>\n",
       "      <th>sparseFactstoch</th>\n",
       "      <td>99.7 $\\pm$ 2.5</td>\n",
       "      <td>-3232.8 $\\pm$ 12.1</td>\n",
       "      <td>0.188 $\\pm$ 0.001</td>\n",
       "      <td>0.334 $\\pm$ 0.003</td>\n",
       "      <td>0.26 $\\pm$ 0.001</td>\n",
       "      <td>0.7 $\\pm$ 0.01</td>\n",
       "      <td>0.98 $\\pm$ 0.0</td>\n",
       "    </tr>\n",
       "    <tr>\n",
       "      <th>sparseFactstoch</th>\n",
       "      <td>333.9 $\\pm$ 16.4</td>\n",
       "      <td>-2533.0 $\\pm$ 13.9</td>\n",
       "      <td>0.171 $\\pm$ 0.001</td>\n",
       "      <td>0.303 $\\pm$ 0.002</td>\n",
       "      <td>0.236 $\\pm$ 0.001</td>\n",
       "      <td>0.48 $\\pm$ 0.01</td>\n",
       "      <td>0.98 $\\pm$ 0.0</td>\n",
       "    </tr>\n",
       "    <tr>\n",
       "      <th>minVar</th>\n",
       "      <td>22.1 $\\pm$ 0.4</td>\n",
       "      <td>-3401.1 $\\pm$ 5.3</td>\n",
       "      <td>0.171 $\\pm$ 0.001</td>\n",
       "      <td>0.309 $\\pm$ 0.002</td>\n",
       "      <td>0.239 $\\pm$ 0.002</td>\n",
       "      <td>0.45 $\\pm$ 0.01</td>\n",
       "      <td>0.95 $\\pm$ 0.0</td>\n",
       "    </tr>\n",
       "    <tr>\n",
       "      <th>GPoE-scaled</th>\n",
       "      <td>22.1 $\\pm$ 0.4</td>\n",
       "      <td>-3401.1 $\\pm$ 5.3</td>\n",
       "      <td>0.194 $\\pm$ 0.001</td>\n",
       "      <td>0.342 $\\pm$ 0.003</td>\n",
       "      <td>0.267 $\\pm$ 0.002</td>\n",
       "      <td>0.76 $\\pm$ 0.01</td>\n",
       "      <td>0.99 $\\pm$ 0.0</td>\n",
       "    </tr>\n",
       "    <tr>\n",
       "      <th>BCM</th>\n",
       "      <td>22.0 $\\pm$ 0.5</td>\n",
       "      <td>-3401.1 $\\pm$ 5.3</td>\n",
       "      <td>0.21 $\\pm$ 0.001</td>\n",
       "      <td>0.352 $\\pm$ 0.003</td>\n",
       "      <td>0.267 $\\pm$ 0.002</td>\n",
       "      <td>3.67 $\\pm$ 0.1</td>\n",
       "      <td>0.63 $\\pm$ 0.0</td>\n",
       "    </tr>\n",
       "    <tr>\n",
       "      <th>RBCM</th>\n",
       "      <td>21.9 $\\pm$ 0.5</td>\n",
       "      <td>-3401.1 $\\pm$ 5.3</td>\n",
       "      <td>0.188 $\\pm$ 0.002</td>\n",
       "      <td>0.319 $\\pm$ 0.003</td>\n",
       "      <td>0.244 $\\pm$ 0.001</td>\n",
       "      <td>2.42 $\\pm$ 0.11</td>\n",
       "      <td>0.69 $\\pm$ 0.0</td>\n",
       "    </tr>\n",
       "    <tr>\n",
       "      <th>GRBCM</th>\n",
       "      <td>26.1 $\\pm$ 0.5</td>\n",
       "      <td>0.0 $\\pm$ 0.0</td>\n",
       "      <td>0.163 $\\pm$ 0.001</td>\n",
       "      <td>0.293 $\\pm$ 0.003</td>\n",
       "      <td>0.228 $\\pm$ 0.002</td>\n",
       "      <td>0.36 $\\pm$ 0.02</td>\n",
       "      <td>0.94 $\\pm$ 0.0</td>\n",
       "    </tr>\n",
       "    <tr>\n",
       "      <th>CPoE(1)</th>\n",
       "      <td>21.7 $\\pm$ 1.2</td>\n",
       "      <td>-3407.3 $\\pm$ 5.4</td>\n",
       "      <td>0.162 $\\pm$ 0.001</td>\n",
       "      <td>0.291 $\\pm$ 0.003</td>\n",
       "      <td>0.225 $\\pm$ 0.002</td>\n",
       "      <td>0.36 $\\pm$ 0.01</td>\n",
       "      <td>0.96 $\\pm$ 0.0</td>\n",
       "    </tr>\n",
       "    <tr>\n",
       "      <th>CPoE(2)</th>\n",
       "      <td>29.3 $\\pm$ 1.3</td>\n",
       "      <td>-2106.2 $\\pm$ 13.2</td>\n",
       "      <td>0.155 $\\pm$ 0.001</td>\n",
       "      <td>0.278 $\\pm$ 0.002</td>\n",
       "      <td>0.217 $\\pm$ 0.002</td>\n",
       "      <td>0.26 $\\pm$ 0.01</td>\n",
       "      <td>0.95 $\\pm$ 0.0</td>\n",
       "    </tr>\n",
       "    <tr>\n",
       "      <th>CPoE(3)</th>\n",
       "      <td>45.9 $\\pm$ 2.0</td>\n",
       "      <td>-1681.0 $\\pm$ 11.8</td>\n",
       "      <td>0.15 $\\pm$ 0.001</td>\n",
       "      <td>0.269 $\\pm$ 0.002</td>\n",
       "      <td>0.21 $\\pm$ 0.001</td>\n",
       "      <td>0.2 $\\pm$ 0.02</td>\n",
       "      <td>0.94 $\\pm$ 0.0</td>\n",
       "    </tr>\n",
       "  </tbody>\n",
       "</table>\n",
       "</div>"
      ],
      "text/plain": [
       "                             time                 LML               CRPS  \\\n",
       "sparseFactstoch    40.7 $\\pm$ 0.9  -4162.3 $\\pm$ 30.7  0.213 $\\pm$ 0.003   \n",
       "sparseFactstoch    99.7 $\\pm$ 2.5  -3232.8 $\\pm$ 12.1  0.188 $\\pm$ 0.001   \n",
       "sparseFactstoch  333.9 $\\pm$ 16.4  -2533.0 $\\pm$ 13.9  0.171 $\\pm$ 0.001   \n",
       "minVar             22.1 $\\pm$ 0.4   -3401.1 $\\pm$ 5.3  0.171 $\\pm$ 0.001   \n",
       "GPoE-scaled        22.1 $\\pm$ 0.4   -3401.1 $\\pm$ 5.3  0.194 $\\pm$ 0.001   \n",
       "BCM                22.0 $\\pm$ 0.5   -3401.1 $\\pm$ 5.3   0.21 $\\pm$ 0.001   \n",
       "RBCM               21.9 $\\pm$ 0.5   -3401.1 $\\pm$ 5.3  0.188 $\\pm$ 0.002   \n",
       "GRBCM              26.1 $\\pm$ 0.5       0.0 $\\pm$ 0.0  0.163 $\\pm$ 0.001   \n",
       "CPoE(1)            21.7 $\\pm$ 1.2   -3407.3 $\\pm$ 5.4  0.162 $\\pm$ 0.001   \n",
       "CPoE(2)            29.3 $\\pm$ 1.3  -2106.2 $\\pm$ 13.2  0.155 $\\pm$ 0.001   \n",
       "CPoE(3)            45.9 $\\pm$ 2.0  -1681.0 $\\pm$ 11.8   0.15 $\\pm$ 0.001   \n",
       "\n",
       "                              RMSE               ABSE              NLP  \\\n",
       "sparseFactstoch  0.377 $\\pm$ 0.006  0.292 $\\pm$ 0.003  0.96 $\\pm$ 0.02   \n",
       "sparseFactstoch  0.334 $\\pm$ 0.003   0.26 $\\pm$ 0.001   0.7 $\\pm$ 0.01   \n",
       "sparseFactstoch  0.303 $\\pm$ 0.002  0.236 $\\pm$ 0.001  0.48 $\\pm$ 0.01   \n",
       "minVar           0.309 $\\pm$ 0.002  0.239 $\\pm$ 0.002  0.45 $\\pm$ 0.01   \n",
       "GPoE-scaled      0.342 $\\pm$ 0.003  0.267 $\\pm$ 0.002  0.76 $\\pm$ 0.01   \n",
       "BCM              0.352 $\\pm$ 0.003  0.267 $\\pm$ 0.002   3.67 $\\pm$ 0.1   \n",
       "RBCM             0.319 $\\pm$ 0.003  0.244 $\\pm$ 0.001  2.42 $\\pm$ 0.11   \n",
       "GRBCM            0.293 $\\pm$ 0.003  0.228 $\\pm$ 0.002  0.36 $\\pm$ 0.02   \n",
       "CPoE(1)          0.291 $\\pm$ 0.003  0.225 $\\pm$ 0.002  0.36 $\\pm$ 0.01   \n",
       "CPoE(2)          0.278 $\\pm$ 0.002  0.217 $\\pm$ 0.002  0.26 $\\pm$ 0.01   \n",
       "CPoE(3)          0.269 $\\pm$ 0.002   0.21 $\\pm$ 0.001   0.2 $\\pm$ 0.02   \n",
       "\n",
       "                            COV  \n",
       "sparseFactstoch  0.98 $\\pm$ 0.0  \n",
       "sparseFactstoch  0.98 $\\pm$ 0.0  \n",
       "sparseFactstoch  0.98 $\\pm$ 0.0  \n",
       "minVar           0.95 $\\pm$ 0.0  \n",
       "GPoE-scaled      0.99 $\\pm$ 0.0  \n",
       "BCM              0.63 $\\pm$ 0.0  \n",
       "RBCM             0.69 $\\pm$ 0.0  \n",
       "GRBCM            0.94 $\\pm$ 0.0  \n",
       "CPoE(1)          0.96 $\\pm$ 0.0  \n",
       "CPoE(2)          0.95 $\\pm$ 0.0  \n",
       "CPoE(3)          0.94 $\\pm$ 0.0  "
      ]
     },
     "execution_count": 16,
     "metadata": {},
     "output_type": "execute_result"
    }
   ],
   "source": [
    "# make nice output of all results\n",
    "MMM = pd.concat([Msparse, Mindep, Mcpoe])\n",
    "SDMMM = pd.concat([SDMsparse, SDMindep, SDMcpoe])   \n",
    "\n",
    "# rename and round\n",
    "MMM.columns = SDMMM.columns = np.array(['time', 'LML', 'CRPS', 'RMSE', 'ABSE', 'NLP', 'COV'])\n",
    "dictA = {'time': 1, 'LML': 1, 'CRPS':3, 'RMSE':3, 'ABSE':3, 'NLP':2, 'COV':2}\n",
    "MMMr = MMM.round(dictA)\n",
    "SDMMMr = SDMMM.round(dictA)\n",
    "\n",
    "# combine both together\n",
    "FF = MMMr.applymap(str) + ' $\\pm$ '+ SDMMMr.applymap(str)\n",
    "FF"
   ]
  },
  {
   "cell_type": "code",
   "execution_count": null,
   "metadata": {},
   "outputs": [],
   "source": []
  },
  {
   "cell_type": "code",
   "execution_count": null,
   "metadata": {},
   "outputs": [],
   "source": []
  }
 ],
 "metadata": {
  "kernelspec": {
   "display_name": "Python 3",
   "language": "python",
   "name": "python3"
  },
  "language_info": {
   "codemirror_mode": {
    "name": "ipython",
    "version": 3
   },
   "file_extension": ".py",
   "mimetype": "text/x-python",
   "name": "python",
   "nbconvert_exporter": "python",
   "pygments_lexer": "ipython3",
   "version": "3.6.13"
  }
 },
 "nbformat": 4,
 "nbformat_minor": 2
}
