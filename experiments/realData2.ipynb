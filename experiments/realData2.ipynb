{
 "cells": [
  {
   "cell_type": "code",
   "execution_count": 1,
   "metadata": {},
   "outputs": [],
   "source": [
    "%load_ext autoreload\n",
    "%autoreload 2"
   ]
  },
  {
   "cell_type": "code",
   "execution_count": 2,
   "metadata": {},
   "outputs": [],
   "source": [
    "from matplotlib import pyplot as plt\n",
    "import numpy as np"
   ]
  },
  {
   "cell_type": "code",
   "execution_count": 3,
   "metadata": {},
   "outputs": [],
   "source": [
    "import GPy, pickle"
   ]
  },
  {
   "cell_type": "code",
   "execution_count": 4,
   "metadata": {},
   "outputs": [],
   "source": [
    "import pandas as pd"
   ]
  },
  {
   "cell_type": "code",
   "execution_count": null,
   "metadata": {},
   "outputs": [],
   "source": [
    "import time"
   ]
  },
  {
   "cell_type": "code",
   "execution_count": null,
   "metadata": {},
   "outputs": [],
   "source": [
    "import sys\n",
    "sys.path.insert(0, '../source')"
   ]
  },
  {
   "cell_type": "code",
   "execution_count": null,
   "metadata": {},
   "outputs": [],
   "source": [
    "from CPoE_script_real import SCRIPT1, meanPD, sdPD, sdmPD"
   ]
  },
  {
   "cell_type": "code",
   "execution_count": null,
   "metadata": {},
   "outputs": [],
   "source": []
  },
  {
   "cell_type": "markdown",
   "metadata": {},
   "source": [
    "This notebook shows how to run the CPoE for the real world datasets with stochastic optimization."
   ]
  },
  {
   "cell_type": "markdown",
   "metadata": {},
   "source": [
    "IMPORTANT: Note that, we do not provide the dataset directly here due to non-authoship reasons. This means, you have to run first download_data.ipynb so that the datasets are available in the folder datasets."
   ]
  },
  {
   "cell_type": "code",
   "execution_count": null,
   "metadata": {},
   "outputs": [],
   "source": []
  },
  {
   "cell_type": "markdown",
   "metadata": {},
   "source": [
    "# set parameters"
   ]
  },
  {
   "cell_type": "code",
   "execution_count": null,
   "metadata": {},
   "outputs": [],
   "source": []
  },
  {
   "cell_type": "code",
   "execution_count": null,
   "metadata": {},
   "outputs": [],
   "source": [
    "# number of repetitions of training/test data splits\n",
    "Nrep = 2        # in the paper, we used Nrep = 10, which takes quite some time"
   ]
  },
  {
   "cell_type": "code",
   "execution_count": null,
   "metadata": {},
   "outputs": [],
   "source": [
    "# choose name of dataset\n",
    "dataset_names = ['kin8nm', 'cadata', 'sarcos', 'casp']\n",
    "name = dataset_names[0]"
   ]
  },
  {
   "cell_type": "code",
   "execution_count": null,
   "metadata": {},
   "outputs": [],
   "source": [
    "# path to datasets (run download_data.ipynb before) and location to store the results\n",
    "path = 'datasets/'\n",
    "path_results = 'results/'"
   ]
  },
  {
   "cell_type": "code",
   "execution_count": null,
   "metadata": {},
   "outputs": [],
   "source": []
  },
  {
   "cell_type": "code",
   "execution_count": null,
   "metadata": {},
   "outputs": [],
   "source": [
    "# set parameters for each dataset\n",
    "\n",
    "# sparsity parameter\n",
    "p = 1    \n",
    "\n",
    "# degree of correlation\n",
    "PPs = [0,1,2]\n",
    "\n",
    "# MMs: number of inducing points for sparse GPs\n",
    "MMs = np.array([ 250, 500, 1000]) \n",
    "\n",
    "# K0: number of experts\n",
    "# Nepochs: number of epochs of stochastic optimization\n",
    "# gamma: learning rate in SGD (adam) optimization\n",
    "\n",
    "if name=='kin8nm':\n",
    "    K0 = 2**4\n",
    "    Nepochs = 15\n",
    "    gamma = 0.03\n",
    "if name=='cadata':\n",
    "    K0 = 2**5\n",
    "    Nepochs = 15\n",
    "    gamma = 0.01\n",
    "if name=='sarcos':\n",
    "    K0 = 2**7\n",
    "    Nepochs = 10\n",
    "    gamma = 0.01\n",
    "if name=='casp':\n",
    "    K0 = 2**7\n",
    "    Nepochs = 10\n",
    "    gamma = 0.01"
   ]
  },
  {
   "cell_type": "code",
   "execution_count": null,
   "metadata": {
    "scrolled": true
   },
   "outputs": [
    {
     "name": "stdout",
     "output_type": "stream",
     "text": [
      "datasets/DATkin8nm.csv\n",
      "kin8nm\n",
      "D= 8\n",
      "Ntrain= 7373\n",
      "Ntest= 819\n"
     ]
    }
   ],
   "source": [
    "SCRIPT = SCRIPT1(path+'DAT'+name+'.csv', Nreps=5, name=name, FULL=False)"
   ]
  },
  {
   "cell_type": "markdown",
   "metadata": {},
   "source": [
    "# run CPoE, PoE, SGP"
   ]
  },
  {
   "cell_type": "code",
   "execution_count": null,
   "metadata": {},
   "outputs": [
    {
     "data": {
      "text/plain": [
       "'Epoch 14 likelihood: -3418.0319727373358 rel: 0.0014058051673002507 stop?: False'"
      ]
     },
     "metadata": {},
     "output_type": "display_data"
    }
   ],
   "source": [
    "# run correlated PoEs\n",
    "_ = SCRIPT.runCPoE(K0, PPs, p, HYPERS='STOCH',TRACE=False, gamma=gamma, E=Nepochs)"
   ]
  },
  {
   "cell_type": "code",
   "execution_count": null,
   "metadata": {},
   "outputs": [
    {
     "data": {
      "text/plain": [
       "'Epoch 14 likelihood: -3418.0319727373358 rel: 0.0014058051673002507 stop?: False'"
      ]
     },
     "metadata": {},
     "output_type": "display_data"
    }
   ],
   "source": [
    "# run independent PoEs\n",
    "_ = SCRIPT.runPoE(K0, HYPERS='STOCH',TRACE=False, gamma=gamma, E=Nepochs)"
   ]
  },
  {
   "cell_type": "code",
   "execution_count": null,
   "metadata": {},
   "outputs": [
    {
     "data": {
      "text/plain": [
       "'Epoch 10 likelihood: [[-5892.50955622]] rel: [[0.0002844]] stop?: [[False]]'"
      ]
     },
     "metadata": {},
     "output_type": "display_data"
    }
   ],
   "source": [
    "# run stochastic sparse GP\n",
    "_ = SCRIPT.runSparseGPfact(MMs, K0, HYPERS='STOCH',TRACE=False, gamma=gamma, E=Nepochs, rec=True)"
   ]
  },
  {
   "cell_type": "code",
   "execution_count": null,
   "metadata": {},
   "outputs": [],
   "source": []
  },
  {
   "cell_type": "markdown",
   "metadata": {},
   "source": [
    "# reload results"
   ]
  },
  {
   "cell_type": "code",
   "execution_count": null,
   "metadata": {},
   "outputs": [],
   "source": [
    "# reload computed results\n",
    "resPoE_stoch_load = pickle.load( open(nam+ '_PoE_K'+str(K0)+'stoch', 'rb' ) )\n",
    "resSGP_stoch_load = pickle.load( open(nam+ '_SGP'+'factstoch', 'rb' ) )\n",
    "resCPoE_stoch_loads =  [pickle.load( open( name+'_CPoE_K'+str(K0)+'_P'+str(P)+'_p1'+'stoch', 'rb' ) ) for P in PPs]"
   ]
  },
  {
   "cell_type": "code",
   "execution_count": null,
   "metadata": {},
   "outputs": [],
   "source": []
  },
  {
   "cell_type": "code",
   "execution_count": null,
   "metadata": {},
   "outputs": [],
   "source": [
    "# compute mean and std over the repetitions\n",
    "Mindep, SDindep, SDMindep = sdPD(resPoE_stoch_load)\n",
    "Msparse, SDsparse, SDMsparse = sdPD(resSGP_stoch_load)\n",
    "Mcpoe = pd.concat([ meanPD(x) for x in resCPoE_stoch_loads])\n",
    "SDMcpoe = pd.concat([ sdmPD(x) for x in resCPoE_stoch_loads])"
   ]
  },
  {
   "cell_type": "code",
   "execution_count": null,
   "metadata": {},
   "outputs": [],
   "source": [
    "# make nice output of all results\n",
    "MMM = pd.concat([Msparse, Mindep, Mcpoe])\n",
    "SDMMM = pd.concat([SDMsparse, SDMindep, SDMcpoe])   \n",
    "\n",
    "# rename and round\n",
    "MMM.columns = SDMMM.columns = np.array(['time', 'LML', 'CRPS', 'RMSE', 'ABSE', 'NLP', 'COV'])\n",
    "dictA = {'time': 1, 'LML': 1, 'CRPS':3, 'RMSE':3, 'ABSE':3, 'NLP':2, 'COV':2}\n",
    "MMMr = MMM.round(dictA)\n",
    "SDMMMr = SDMMM.round(dictA)\n",
    "\n",
    "# combine both together\n",
    "FF = MMMr.applymap(str) + ' $\\pm$ '+ SDMMMr.applymap(str)\n",
    "FF"
   ]
  },
  {
   "cell_type": "code",
   "execution_count": null,
   "metadata": {},
   "outputs": [],
   "source": []
  },
  {
   "cell_type": "code",
   "execution_count": null,
   "metadata": {},
   "outputs": [],
   "source": []
  }
 ],
 "metadata": {
  "kernelspec": {
   "display_name": "Python 3",
   "language": "python",
   "name": "python3"
  },
  "language_info": {
   "codemirror_mode": {
    "name": "ipython",
    "version": 3
   },
   "file_extension": ".py",
   "mimetype": "text/x-python",
   "name": "python",
   "nbconvert_exporter": "python",
   "pygments_lexer": "ipython3",
   "version": "3.6.13"
  }
 },
 "nbformat": 4,
 "nbformat_minor": 2
}
