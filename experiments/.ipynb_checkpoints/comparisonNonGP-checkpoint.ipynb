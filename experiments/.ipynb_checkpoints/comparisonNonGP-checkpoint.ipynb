{
 "cells": [
  {
   "cell_type": "code",
   "execution_count": 1,
   "metadata": {},
   "outputs": [],
   "source": [
    "%load_ext autoreload\n",
    "%autoreload 2"
   ]
  },
  {
   "cell_type": "code",
   "execution_count": 2,
   "metadata": {},
   "outputs": [],
   "source": [
    "from matplotlib import pyplot as plt\n",
    "import numpy as np"
   ]
  },
  {
   "cell_type": "code",
   "execution_count": 3,
   "metadata": {},
   "outputs": [],
   "source": [
    "import GPy, pickle"
   ]
  },
  {
   "cell_type": "code",
   "execution_count": 4,
   "metadata": {},
   "outputs": [],
   "source": [
    "import pandas as pd"
   ]
  },
  {
   "cell_type": "code",
   "execution_count": 5,
   "metadata": {},
   "outputs": [],
   "source": [
    "import time\n",
    "import gc"
   ]
  },
  {
   "cell_type": "code",
   "execution_count": 6,
   "metadata": {},
   "outputs": [
    {
     "name": "stdout",
     "output_type": "stream",
     "text": [
      "new attribute for sparse GP!!\n"
     ]
    }
   ],
   "source": [
    "from CPoE_script_real import SCRIPT1"
   ]
  },
  {
   "cell_type": "code",
   "execution_count": null,
   "metadata": {},
   "outputs": [],
   "source": []
  },
  {
   "cell_type": "code",
   "execution_count": 7,
   "metadata": {},
   "outputs": [],
   "source": [
    "path = '../datasets/'"
   ]
  },
  {
   "cell_type": "markdown",
   "metadata": {},
   "source": [
    "# deterministic optimization including run full GP"
   ]
  },
  {
   "cell_type": "code",
   "execution_count": 256,
   "metadata": {},
   "outputs": [],
   "source": [
    "name='concrete'\n",
    "#name='mg'\n",
    "#name='space_ga'\n",
    "#name='abalone'\n",
    "#name='kin8nm'"
   ]
  },
  {
   "cell_type": "code",
   "execution_count": 257,
   "metadata": {},
   "outputs": [],
   "source": [
    "LOAD = True #if False, rerun experiments "
   ]
  },
  {
   "cell_type": "code",
   "execution_count": 258,
   "metadata": {},
   "outputs": [],
   "source": [
    "p = 1\n",
    "PPs = [0,1,2,3]\n",
    "kks = [1,3]\n",
    "args = {}\n",
    "if name=='concrete':\n",
    "    K0 = 2**2   \n",
    "if name=='mg':\n",
    "    K0 = 2**3\n",
    "if name=='abalone':\n",
    "    K0 = 2**4\n",
    "if name=='space_ga':\n",
    "    K0 = 2**2\n",
    "if name=='kin8nm':\n",
    "    K0 = 2**4\n",
    "    kks = [1,2]\n",
    "    args = {'NtestFIX':True, 'Ntestmax':3000}"
   ]
  },
  {
   "cell_type": "code",
   "execution_count": null,
   "metadata": {},
   "outputs": [],
   "source": []
  },
  {
   "cell_type": "code",
   "execution_count": 259,
   "metadata": {},
   "outputs": [],
   "source": [
    "if not LOAD:\n",
    "    SCRIPT = SCRIPT1(path+'DAT'+name+'.csv', Nreps=10, name=name, **args)\n",
    "\n",
    "    resMLP, _ = SCRIPT.runNON_GP(ALG='MLP', nam='100_100', hidden_layer_sizes=(100,100))\n",
    "    resMLP, _ = SCRIPT.runNON_GP(ALG='MLP', nam='500_500', hidden_layer_sizes=(500,500))\n",
    "    resMLP, _ = SCRIPT.runNON_GP(ALG='MLP', nam='100_100_100', hidden_layer_sizes=(100,100,100))\n",
    "\n",
    "    resLIN, _ = SCRIPT.runNON_GP(ALG='LinReg')\n",
    "    resXGB, _ = SCRIPT.runNON_GP(ALG='XGboost')\n",
    "\n",
    "    gc.collect()"
   ]
  },
  {
   "cell_type": "code",
   "execution_count": null,
   "metadata": {},
   "outputs": [],
   "source": []
  },
  {
   "cell_type": "code",
   "execution_count": 260,
   "metadata": {},
   "outputs": [],
   "source": [
    "if not LOAD:\n",
    "    #for i in kks:\n",
    "    for i in [3]:\n",
    "        SCRIPT = SCRIPT1(path+'DAT'+name+'.csv', Nreps=10, name=name+'_kern'+str(i), kernelMODE=i, **args)\n",
    "        resFull, pathFull = SCRIPT.runfullGP()\n",
    "        gc.collect()\n",
    "        resCPoE, pathCPoE = SCRIPT.runCPoE(K0, PPs, p)\n",
    "        gc.collect()"
   ]
  },
  {
   "cell_type": "code",
   "execution_count": null,
   "metadata": {},
   "outputs": [],
   "source": []
  },
  {
   "cell_type": "markdown",
   "metadata": {},
   "source": [
    "# load results"
   ]
  },
  {
   "cell_type": "code",
   "execution_count": 261,
   "metadata": {},
   "outputs": [],
   "source": [
    "if LOAD:\n",
    "    # load results\n",
    "    resMLP1_load = pickle.load( open( name+'_MLP100_100', 'rb' ) )\n",
    "    resMLP2_load = pickle.load( open( name+'_MLP500_500', 'rb' ) )\n",
    "    resMLP3_load = pickle.load( open( name+'_MLP100_100_100', 'rb' ) )\n",
    "    resLinReg_load = pickle.load( open( name+'_LinReg', 'rb' ) )\n",
    "    resXGboost_load = pickle.load( open( name+'_XGboost', 'rb' ) )"
   ]
  },
  {
   "cell_type": "code",
   "execution_count": 262,
   "metadata": {},
   "outputs": [],
   "source": [
    "if LOAD:\n",
    "    resFull_loads = [ pickle.load( open( name+'_kern'+str(i)+'_fullGP', 'rb' ) ) for i in kks ]\n",
    "    resCPoE_loads1 =  [pickle.load( open( name+'_kern'+str(kks[0])+'_CPoE_K'+str(K0)+'_P'+str(P)+'_p1', 'rb' ) ) for P in PPs]\n",
    "    resCPoE_loads3 =  [pickle.load( open( name+'_kern'+str(kks[1])+'_CPoE_K'+str(K0)+'_P'+str(P)+'_p1', 'rb' ) ) for P in PPs]\n"
   ]
  },
  {
   "cell_type": "code",
   "execution_count": null,
   "metadata": {},
   "outputs": [],
   "source": []
  },
  {
   "cell_type": "code",
   "execution_count": null,
   "metadata": {},
   "outputs": [],
   "source": []
  },
  {
   "cell_type": "code",
   "execution_count": 263,
   "metadata": {},
   "outputs": [],
   "source": [
    "# compute mean and std over the repetitions"
   ]
  },
  {
   "cell_type": "code",
   "execution_count": 264,
   "metadata": {},
   "outputs": [],
   "source": [
    "def meanPD(DFs):\n",
    "    return sum( DFs )/len(DFs)"
   ]
  },
  {
   "cell_type": "code",
   "execution_count": 265,
   "metadata": {},
   "outputs": [],
   "source": [
    " def sdPD(DFs, M=None):\n",
    "    if M==None:\n",
    "        M = meanPD(DFs)\n",
    "    \n",
    "    SD = np.sqrt(  sum([ (X  - M)**2 for X in DFs]) / len(DFs)  )\n",
    "    SDM = SD/np.sqrt(len(DFs)) #sd of mean\n",
    "        \n",
    "    return M, SD, SDM"
   ]
  },
  {
   "cell_type": "code",
   "execution_count": 266,
   "metadata": {},
   "outputs": [],
   "source": [
    " def sdmPD(DFs, M=None):\n",
    "    if M==None:\n",
    "        M = meanPD(DFs)\n",
    "    \n",
    "    SD = np.sqrt(  sum([ (X  - M)**2 for X in DFs]) / len(DFs)  )\n",
    "    SDM = SD/np.sqrt(len(DFs)) #sd of mean\n",
    "        \n",
    "    return SDM"
   ]
  },
  {
   "cell_type": "code",
   "execution_count": null,
   "metadata": {},
   "outputs": [],
   "source": []
  },
  {
   "cell_type": "code",
   "execution_count": 267,
   "metadata": {},
   "outputs": [],
   "source": [
    "# compute mean and std over the repetitions\n",
    "Mmlp1, SDml1, SDMmlp1 = sdPD(resMLP1_load)\n",
    "Mmlp2, SDml2, SDMmlp2 = sdPD(resMLP2_load)\n",
    "Mmlp3, SDml3, SDMmlp3 = sdPD(resMLP3_load)\n",
    "\n",
    "Mxgboost, _, SDMxgboost = sdPD(resXGboost_load)\n",
    "Mlr, _, SDMlr = sdPD(resLinReg_load)"
   ]
  },
  {
   "cell_type": "code",
   "execution_count": 268,
   "metadata": {},
   "outputs": [],
   "source": [
    "Mfull = pd.concat([ meanPD(x) for x in resFull_loads])\n",
    "SDMfull = pd.concat([ sdmPD(x) for x in resFull_loads])"
   ]
  },
  {
   "cell_type": "code",
   "execution_count": 269,
   "metadata": {},
   "outputs": [],
   "source": [
    "Mcpoe1 = pd.concat([ meanPD(x) for x in resCPoE_loads1])\n",
    "SDMcpoe1 = pd.concat([ sdmPD(x) for x in resCPoE_loads1])\n",
    "\n",
    "Mcpoe3 = pd.concat([ meanPD(x) for x in resCPoE_loads3])\n",
    "SDMcpoe3 = pd.concat([ sdmPD(x) for x in resCPoE_loads3])"
   ]
  },
  {
   "cell_type": "code",
   "execution_count": null,
   "metadata": {},
   "outputs": [],
   "source": []
  },
  {
   "cell_type": "code",
   "execution_count": 270,
   "metadata": {},
   "outputs": [
    {
     "data": {
      "text/html": [
       "<div>\n",
       "<style scoped>\n",
       "    .dataframe tbody tr th:only-of-type {\n",
       "        vertical-align: middle;\n",
       "    }\n",
       "\n",
       "    .dataframe tbody tr th {\n",
       "        vertical-align: top;\n",
       "    }\n",
       "\n",
       "    .dataframe thead th {\n",
       "        text-align: right;\n",
       "    }\n",
       "</style>\n",
       "<table border=\"1\" class=\"dataframe\">\n",
       "  <thead>\n",
       "    <tr style=\"text-align: right;\">\n",
       "      <th></th>\n",
       "      <th>time</th>\n",
       "      <th>RMSE</th>\n",
       "      <th>ABSE</th>\n",
       "      <th>CRPS</th>\n",
       "      <th>COV</th>\n",
       "    </tr>\n",
       "  </thead>\n",
       "  <tbody>\n",
       "    <tr>\n",
       "      <th>fullGP-SE</th>\n",
       "      <td>12.52 $\\pm$ 0.98</td>\n",
       "      <td>0.311 $\\pm$ 0.011</td>\n",
       "      <td>0.218 $\\pm$ 0.005</td>\n",
       "      <td>0.162 $\\pm$ 0.004</td>\n",
       "      <td>0.92 $\\pm$ 0.01</td>\n",
       "    </tr>\n",
       "    <tr>\n",
       "      <th>fullGP-FLEX</th>\n",
       "      <td>28.23 $\\pm$ 7.99</td>\n",
       "      <td>0.254 $\\pm$ 0.01</td>\n",
       "      <td>0.169 $\\pm$ 0.005</td>\n",
       "      <td>0.128 $\\pm$ 0.004</td>\n",
       "      <td>0.94 $\\pm$ 0.01</td>\n",
       "    </tr>\n",
       "    <tr>\n",
       "      <th>CPoE(1)-SE</th>\n",
       "      <td>1.97 $\\pm$ 0.06</td>\n",
       "      <td>0.333 $\\pm$ 0.011</td>\n",
       "      <td>0.236 $\\pm$ 0.006</td>\n",
       "      <td>0.175 $\\pm$ 0.004</td>\n",
       "      <td>0.92 $\\pm$ 0.01</td>\n",
       "    </tr>\n",
       "    <tr>\n",
       "      <th>CPoE(2)-SE</th>\n",
       "      <td>2.39 $\\pm$ 0.06</td>\n",
       "      <td>0.326 $\\pm$ 0.011</td>\n",
       "      <td>0.231 $\\pm$ 0.006</td>\n",
       "      <td>0.171 $\\pm$ 0.004</td>\n",
       "      <td>0.91 $\\pm$ 0.01</td>\n",
       "    </tr>\n",
       "    <tr>\n",
       "      <th>CPoE(3)-SE</th>\n",
       "      <td>2.77 $\\pm$ 0.11</td>\n",
       "      <td>0.323 $\\pm$ 0.01</td>\n",
       "      <td>0.23 $\\pm$ 0.005</td>\n",
       "      <td>0.17 $\\pm$ 0.004</td>\n",
       "      <td>0.91 $\\pm$ 0.01</td>\n",
       "    </tr>\n",
       "    <tr>\n",
       "      <th>CPoE(4)-SE</th>\n",
       "      <td>2.89 $\\pm$ 0.06</td>\n",
       "      <td>0.324 $\\pm$ 0.011</td>\n",
       "      <td>0.231 $\\pm$ 0.005</td>\n",
       "      <td>0.171 $\\pm$ 0.004</td>\n",
       "      <td>0.91 $\\pm$ 0.01</td>\n",
       "    </tr>\n",
       "    <tr>\n",
       "      <th>CPoE(1)-FLEX</th>\n",
       "      <td>16.37 $\\pm$ 1.11</td>\n",
       "      <td>0.266 $\\pm$ 0.009</td>\n",
       "      <td>0.175 $\\pm$ 0.005</td>\n",
       "      <td>0.133 $\\pm$ 0.004</td>\n",
       "      <td>0.93 $\\pm$ 0.01</td>\n",
       "    </tr>\n",
       "    <tr>\n",
       "      <th>CPoE(2)-FLEX</th>\n",
       "      <td>17.06 $\\pm$ 1.14</td>\n",
       "      <td>0.259 $\\pm$ 0.01</td>\n",
       "      <td>0.172 $\\pm$ 0.005</td>\n",
       "      <td>0.13 $\\pm$ 0.004</td>\n",
       "      <td>0.94 $\\pm$ 0.01</td>\n",
       "    </tr>\n",
       "    <tr>\n",
       "      <th>CPoE(3)-FLEX</th>\n",
       "      <td>17.35 $\\pm$ 1.09</td>\n",
       "      <td>0.255 $\\pm$ 0.01</td>\n",
       "      <td>0.171 $\\pm$ 0.005</td>\n",
       "      <td>0.129 $\\pm$ 0.004</td>\n",
       "      <td>0.94 $\\pm$ 0.01</td>\n",
       "    </tr>\n",
       "    <tr>\n",
       "      <th>CPoE(4)-FLEX</th>\n",
       "      <td>17.7 $\\pm$ 1.1</td>\n",
       "      <td>0.255 $\\pm$ 0.01</td>\n",
       "      <td>0.171 $\\pm$ 0.005</td>\n",
       "      <td>0.129 $\\pm$ 0.004</td>\n",
       "      <td>0.95 $\\pm$ 0.01</td>\n",
       "    </tr>\n",
       "    <tr>\n",
       "      <th>MLP(100-100)</th>\n",
       "      <td>4.52 $\\pm$ 0.39</td>\n",
       "      <td>0.289 $\\pm$ 0.011</td>\n",
       "      <td>0.204 $\\pm$ 0.005</td>\n",
       "      <td>0.0 $\\pm$ 0.0</td>\n",
       "      <td>0.0 $\\pm$ 0.0</td>\n",
       "    </tr>\n",
       "    <tr>\n",
       "      <th>MLP(500-500)</th>\n",
       "      <td>10.73 $\\pm$ 0.62</td>\n",
       "      <td>0.292 $\\pm$ 0.008</td>\n",
       "      <td>0.208 $\\pm$ 0.004</td>\n",
       "      <td>0.0 $\\pm$ 0.0</td>\n",
       "      <td>0.0 $\\pm$ 0.0</td>\n",
       "    </tr>\n",
       "    <tr>\n",
       "      <th>MLP(100-100-100)</th>\n",
       "      <td>4.14 $\\pm$ 0.18</td>\n",
       "      <td>0.285 $\\pm$ 0.011</td>\n",
       "      <td>0.2 $\\pm$ 0.006</td>\n",
       "      <td>0.0 $\\pm$ 0.0</td>\n",
       "      <td>0.0 $\\pm$ 0.0</td>\n",
       "    </tr>\n",
       "    <tr>\n",
       "      <th>XGboost</th>\n",
       "      <td>32.16 $\\pm$ 1.87</td>\n",
       "      <td>0.323 $\\pm$ 0.008</td>\n",
       "      <td>0.235 $\\pm$ 0.007</td>\n",
       "      <td>0.0 $\\pm$ 0.0</td>\n",
       "      <td>0.0 $\\pm$ 0.0</td>\n",
       "    </tr>\n",
       "    <tr>\n",
       "      <th>LinReg</th>\n",
       "      <td>0.01 $\\pm$ 0.0</td>\n",
       "      <td>0.626 $\\pm$ 0.01</td>\n",
       "      <td>0.492 $\\pm$ 0.009</td>\n",
       "      <td>0.0 $\\pm$ 0.0</td>\n",
       "      <td>0.0 $\\pm$ 0.0</td>\n",
       "    </tr>\n",
       "  </tbody>\n",
       "</table>\n",
       "</div>"
      ],
      "text/plain": [
       "                              time               RMSE               ABSE  \\\n",
       "fullGP-SE         12.52 $\\pm$ 0.98  0.311 $\\pm$ 0.011  0.218 $\\pm$ 0.005   \n",
       "fullGP-FLEX       28.23 $\\pm$ 7.99   0.254 $\\pm$ 0.01  0.169 $\\pm$ 0.005   \n",
       "CPoE(1)-SE         1.97 $\\pm$ 0.06  0.333 $\\pm$ 0.011  0.236 $\\pm$ 0.006   \n",
       "CPoE(2)-SE         2.39 $\\pm$ 0.06  0.326 $\\pm$ 0.011  0.231 $\\pm$ 0.006   \n",
       "CPoE(3)-SE         2.77 $\\pm$ 0.11   0.323 $\\pm$ 0.01   0.23 $\\pm$ 0.005   \n",
       "CPoE(4)-SE         2.89 $\\pm$ 0.06  0.324 $\\pm$ 0.011  0.231 $\\pm$ 0.005   \n",
       "CPoE(1)-FLEX      16.37 $\\pm$ 1.11  0.266 $\\pm$ 0.009  0.175 $\\pm$ 0.005   \n",
       "CPoE(2)-FLEX      17.06 $\\pm$ 1.14   0.259 $\\pm$ 0.01  0.172 $\\pm$ 0.005   \n",
       "CPoE(3)-FLEX      17.35 $\\pm$ 1.09   0.255 $\\pm$ 0.01  0.171 $\\pm$ 0.005   \n",
       "CPoE(4)-FLEX        17.7 $\\pm$ 1.1   0.255 $\\pm$ 0.01  0.171 $\\pm$ 0.005   \n",
       "MLP(100-100)       4.52 $\\pm$ 0.39  0.289 $\\pm$ 0.011  0.204 $\\pm$ 0.005   \n",
       "MLP(500-500)      10.73 $\\pm$ 0.62  0.292 $\\pm$ 0.008  0.208 $\\pm$ 0.004   \n",
       "MLP(100-100-100)   4.14 $\\pm$ 0.18  0.285 $\\pm$ 0.011    0.2 $\\pm$ 0.006   \n",
       "XGboost           32.16 $\\pm$ 1.87  0.323 $\\pm$ 0.008  0.235 $\\pm$ 0.007   \n",
       "LinReg              0.01 $\\pm$ 0.0   0.626 $\\pm$ 0.01  0.492 $\\pm$ 0.009   \n",
       "\n",
       "                               CRPS              COV  \n",
       "fullGP-SE         0.162 $\\pm$ 0.004  0.92 $\\pm$ 0.01  \n",
       "fullGP-FLEX       0.128 $\\pm$ 0.004  0.94 $\\pm$ 0.01  \n",
       "CPoE(1)-SE        0.175 $\\pm$ 0.004  0.92 $\\pm$ 0.01  \n",
       "CPoE(2)-SE        0.171 $\\pm$ 0.004  0.91 $\\pm$ 0.01  \n",
       "CPoE(3)-SE         0.17 $\\pm$ 0.004  0.91 $\\pm$ 0.01  \n",
       "CPoE(4)-SE        0.171 $\\pm$ 0.004  0.91 $\\pm$ 0.01  \n",
       "CPoE(1)-FLEX      0.133 $\\pm$ 0.004  0.93 $\\pm$ 0.01  \n",
       "CPoE(2)-FLEX       0.13 $\\pm$ 0.004  0.94 $\\pm$ 0.01  \n",
       "CPoE(3)-FLEX      0.129 $\\pm$ 0.004  0.94 $\\pm$ 0.01  \n",
       "CPoE(4)-FLEX      0.129 $\\pm$ 0.004  0.95 $\\pm$ 0.01  \n",
       "MLP(100-100)          0.0 $\\pm$ 0.0    0.0 $\\pm$ 0.0  \n",
       "MLP(500-500)          0.0 $\\pm$ 0.0    0.0 $\\pm$ 0.0  \n",
       "MLP(100-100-100)      0.0 $\\pm$ 0.0    0.0 $\\pm$ 0.0  \n",
       "XGboost               0.0 $\\pm$ 0.0    0.0 $\\pm$ 0.0  \n",
       "LinReg                0.0 $\\pm$ 0.0    0.0 $\\pm$ 0.0  "
      ]
     },
     "execution_count": 270,
     "metadata": {},
     "output_type": "execute_result"
    }
   ],
   "source": [
    "# make nice output of all results\n",
    "MMM = pd.concat([Mfull, Mcpoe1,Mcpoe3, Mmlp1, Mmlp2, Mmlp3, Mxgboost, Mlr])\n",
    "SDMMM = pd.concat([SDMfull, SDMcpoe1,SDMcpoe3, SDMmlp1,SDMmlp2, SDMmlp3, SDMxgboost,SDMlr])   \n",
    "\n",
    "# rename and round\n",
    "MMM.columns = SDMMM.columns = np.array(['time', 'LML', 'KL','ERR', 'CRPS', 'RMSE', 'ABSE', 'NLP', 'COV'])\n",
    "dictA = {'time': 2, 'LML': 1, 'KL':1, 'ERR':3, 'CRPS':3, 'RMSE':3, 'ABSE':3, 'NLP':2, 'COV':2}\n",
    "MMMr = MMM.round(dictA)\n",
    "SDMMMr = SDMMM.round(dictA)\n",
    "\n",
    "FF = MMMr.applymap(str) + ' $\\pm$ '+ SDMMMr.applymap(str)\n",
    "FF.index = ['fullGP-SE', \n",
    "            'fullGP-FLEX',\n",
    "            \\\n",
    "            'CPoE(1)-SE','CPoE(2)-SE','CPoE(3)-SE','CPoE(4)-SE',\n",
    "           'CPoE(1)-FLEX','CPoE(2)-FLEX','CPoE(3)-FLEX','CPoE(4)-FLEX',\n",
    "           'MLP(100-100)','MLP(500-500)','MLP(100-100-100)','XGboost', 'LinReg']\n",
    "#FF\n",
    "GG = FF[['time','RMSE','ABSE','CRPS','COV']]\n",
    "GG"
   ]
  },
  {
   "cell_type": "code",
   "execution_count": null,
   "metadata": {},
   "outputs": [],
   "source": []
  },
  {
   "cell_type": "code",
   "execution_count": 271,
   "metadata": {},
   "outputs": [],
   "source": [
    "# save .tex results"
   ]
  },
  {
   "cell_type": "code",
   "execution_count": 272,
   "metadata": {},
   "outputs": [],
   "source": [
    "path_results = '/home/manuel/Dropbox/PhD/notes/CorrelatedProductOfExperts/CPoE_ECML_review/'\n",
    "#path_results = '../results/'"
   ]
  },
  {
   "cell_type": "code",
   "execution_count": 273,
   "metadata": {},
   "outputs": [],
   "source": [
    "file1 = open(path_results+name+'_NONGP.tex','w')\n",
    "file1.write(GG.to_latex(escape=False))\n",
    "file1.close();"
   ]
  },
  {
   "cell_type": "code",
   "execution_count": null,
   "metadata": {},
   "outputs": [],
   "source": []
  },
  {
   "cell_type": "code",
   "execution_count": null,
   "metadata": {},
   "outputs": [],
   "source": []
  },
  {
   "cell_type": "code",
   "execution_count": null,
   "metadata": {},
   "outputs": [],
   "source": []
  },
  {
   "cell_type": "code",
   "execution_count": null,
   "metadata": {},
   "outputs": [],
   "source": []
  },
  {
   "cell_type": "code",
   "execution_count": null,
   "metadata": {},
   "outputs": [],
   "source": []
  },
  {
   "cell_type": "code",
   "execution_count": null,
   "metadata": {},
   "outputs": [],
   "source": []
  },
  {
   "cell_type": "code",
   "execution_count": null,
   "metadata": {},
   "outputs": [],
   "source": []
  },
  {
   "cell_type": "markdown",
   "metadata": {},
   "source": [
    "## b) bigger datasets, stochastic, no full GP"
   ]
  },
  {
   "cell_type": "code",
   "execution_count": 22,
   "metadata": {},
   "outputs": [],
   "source": [
    "path = '../datasets/'"
   ]
  },
  {
   "cell_type": "code",
   "execution_count": 202,
   "metadata": {},
   "outputs": [],
   "source": [
    "#name = 'kin8nm'\n",
    "#name = 'cadata'\n",
    "name = 'sarcos' \n",
    "name = 'casp'"
   ]
  },
  {
   "cell_type": "code",
   "execution_count": 203,
   "metadata": {},
   "outputs": [],
   "source": [
    "p = 1\n",
    "PPs = [0,1,2]\n",
    "if name=='kin8nm':\n",
    "    K0 = 2**4\n",
    "    Nepochs = 15\n",
    "    gamma = 0.01\n",
    "if name=='cadata':\n",
    "    K0 = 2**5\n",
    "    Nepochs = 15\n",
    "    gamma = 0.01\n",
    "if name=='sarcos':\n",
    "    K0 = 2**7\n",
    "    Nepochs = 10\n",
    "    gamma = 0.01\n",
    "if name=='casp':\n",
    "    K0 = 2**7\n",
    "    Nepochs = 10\n",
    "    gamma = 0.01"
   ]
  },
  {
   "cell_type": "code",
   "execution_count": 131,
   "metadata": {},
   "outputs": [
    {
     "data": {
      "text/plain": [
       "'Epoch 14 likelihood: -14705.09702146641 rel: 0.0006450787537842559 stop?: False'"
      ]
     },
     "metadata": {},
     "output_type": "display_data"
    },
    {
     "name": "stdout",
     "output_type": "stream",
     "text": [
      "Ntrain/K not integer!!\n",
      "Ntrain/K not integer!!\n",
      "Ntrain/K not integer!!\n"
     ]
    }
   ],
   "source": [
    "for i in [1]: ##2?\n",
    "    SCRIPT = SCRIPT1(path+'DAT'+name+'.csv', Nreps=5, FULL=False, \\\n",
    "                     name=name+'_kern'+str(i), kernelMODE=i)\n",
    "    _ = SCRIPT.runCPoE(K0, PPs, p, HYPERS='STOCH',TRACE=False, gamma=gamma, E=Nepochs)\n",
    "    gc.collect()"
   ]
  },
  {
   "cell_type": "code",
   "execution_count": 16,
   "metadata": {},
   "outputs": [
    {
     "name": "stdout",
     "output_type": "stream",
     "text": [
      "../datasets/DATcadata.csv\n",
      "cadataS\n",
      "D= 8\n",
      "Ntrain= 19640\n",
      "Ntest= 1000\n",
      "0 rep\n",
      "1 rep\n",
      "2 rep\n",
      "3 rep\n",
      "4 rep\n",
      "0 rep\n",
      "1 rep\n",
      "2 rep\n",
      "3 rep\n",
      "4 rep\n",
      "0 rep\n",
      "1 rep\n",
      "2 rep\n",
      "3 rep\n",
      "4 rep\n"
     ]
    }
   ],
   "source": [
    "SCRIPT = SCRIPT1(path+'DAT'+name+'.csv', Nreps=5, name=name+'S')\n",
    "\n",
    "resMLP, _ = SCRIPT.runNON_GP(ALG='MLP', nam='100_100', hidden_layer_sizes=(100,100))\n",
    "resMLP, _ = SCRIPT.runNON_GP(ALG='MLP', nam='500_500', hidden_layer_sizes=(500,500))\n",
    "resMLP, _ = SCRIPT.runNON_GP(ALG='MLP', nam='100_100_100', hidden_layer_sizes=(100,100,100))"
   ]
  },
  {
   "cell_type": "code",
   "execution_count": 17,
   "metadata": {},
   "outputs": [
    {
     "data": {
      "text/plain": [
       "0"
      ]
     },
     "execution_count": 17,
     "metadata": {},
     "output_type": "execute_result"
    }
   ],
   "source": [
    "gc.collect()"
   ]
  },
  {
   "cell_type": "code",
   "execution_count": 18,
   "metadata": {},
   "outputs": [
    {
     "name": "stdout",
     "output_type": "stream",
     "text": [
      "0 rep\n",
      "1 rep\n",
      "2 rep\n",
      "3 rep\n",
      "4 rep\n",
      "0 rep\n",
      "1 rep\n",
      "2 rep\n",
      "3 rep\n",
      "4 rep\n"
     ]
    },
    {
     "data": {
      "text/plain": [
       "0"
      ]
     },
     "execution_count": 18,
     "metadata": {},
     "output_type": "execute_result"
    }
   ],
   "source": [
    "resLIN, _ = SCRIPT.runNON_GP(ALG='LinReg')\n",
    "resXGB, _ = SCRIPT.runNON_GP(ALG='XGboost')\n",
    "\n",
    "gc.collect()"
   ]
  },
  {
   "cell_type": "code",
   "execution_count": null,
   "metadata": {},
   "outputs": [],
   "source": []
  },
  {
   "cell_type": "markdown",
   "metadata": {},
   "source": [
    "# load results"
   ]
  },
  {
   "cell_type": "code",
   "execution_count": 204,
   "metadata": {},
   "outputs": [],
   "source": [
    "# load results\n",
    "resMLP1_load = pickle.load( open( name+'S'+'_MLP100_100', 'rb' ) )\n",
    "resMLP2_load = pickle.load( open( name+'S'+'_MLP500_500', 'rb' ) )\n",
    "resMLP3_load = pickle.load( open( name+'S'+'_MLP100_100_100', 'rb' ) )\n",
    "resLinReg_load = pickle.load( open( name+'S'+'_LinReg', 'rb' ) )\n",
    "resXGboost_load = pickle.load( open( name+'S'+'_XGboost', 'rb' ) )"
   ]
  },
  {
   "cell_type": "code",
   "execution_count": 205,
   "metadata": {},
   "outputs": [],
   "source": [
    "resCPoE_loads1 =  [pickle.load( open( name+'_kern'+str(1)+'_CPoE_K'+str(K0)+'_P'+str(P)+'_p1stoch', 'rb' ) ) for P in PPs]\n",
    "resCPoE_loads3 =  [pickle.load( open( name+'_kern'+str(2)+'_CPoE_K'+str(K0)+'_P'+str(P)+'_p1stoch', 'rb' ) ) for P in PPs]"
   ]
  },
  {
   "cell_type": "code",
   "execution_count": null,
   "metadata": {},
   "outputs": [],
   "source": []
  },
  {
   "cell_type": "code",
   "execution_count": null,
   "metadata": {},
   "outputs": [],
   "source": []
  },
  {
   "cell_type": "code",
   "execution_count": 206,
   "metadata": {},
   "outputs": [],
   "source": [
    "# compute mean and std over the repetitions\n",
    "Mmlp1, SDml1, SDMmlp1 = sdPD(resMLP1_load)\n",
    "Mmlp2, SDml2, SDMmlp2 = sdPD(resMLP2_load)\n",
    "Mmlp3, SDml3, SDMmlp3 = sdPD(resMLP3_load)\n",
    "\n",
    "Mxgboost, _, SDMxgboost = sdPD(resXGboost_load)\n",
    "Mlr, _, SDMlr = sdPD(resLinReg_load)"
   ]
  },
  {
   "cell_type": "code",
   "execution_count": 207,
   "metadata": {},
   "outputs": [],
   "source": [
    "Mcpoe1 = pd.concat([ meanPD(x) for x in resCPoE_loads1])\n",
    "SDMcpoe1 = pd.concat([ sdmPD(x) for x in resCPoE_loads1])\n",
    "\n",
    "Mcpoe3 = pd.concat([ meanPD(x) for x in resCPoE_loads3])\n",
    "SDMcpoe3 = pd.concat([ sdmPD(x) for x in resCPoE_loads3])"
   ]
  },
  {
   "cell_type": "code",
   "execution_count": null,
   "metadata": {},
   "outputs": [],
   "source": []
  },
  {
   "cell_type": "code",
   "execution_count": 208,
   "metadata": {},
   "outputs": [
    {
     "data": {
      "text/html": [
       "<div>\n",
       "<style scoped>\n",
       "    .dataframe tbody tr th:only-of-type {\n",
       "        vertical-align: middle;\n",
       "    }\n",
       "\n",
       "    .dataframe tbody tr th {\n",
       "        vertical-align: top;\n",
       "    }\n",
       "\n",
       "    .dataframe thead th {\n",
       "        text-align: right;\n",
       "    }\n",
       "</style>\n",
       "<table border=\"1\" class=\"dataframe\">\n",
       "  <thead>\n",
       "    <tr style=\"text-align: right;\">\n",
       "      <th></th>\n",
       "      <th>time</th>\n",
       "      <th>RMSE</th>\n",
       "      <th>ABSE</th>\n",
       "      <th>CRPS</th>\n",
       "      <th>COV</th>\n",
       "    </tr>\n",
       "  </thead>\n",
       "  <tbody>\n",
       "    <tr>\n",
       "      <th>CPoE(1)-SE</th>\n",
       "      <td>68.54 $\\pm$ 1.67</td>\n",
       "      <td>0.597 $\\pm$ 0.006</td>\n",
       "      <td>0.381 $\\pm$ 0.004</td>\n",
       "      <td>0.289 $\\pm$ 0.003</td>\n",
       "      <td>0.94 $\\pm$ 0.0</td>\n",
       "    </tr>\n",
       "    <tr>\n",
       "      <th>CPoE(2)-SE</th>\n",
       "      <td>102.61 $\\pm$ 1.54</td>\n",
       "      <td>0.59 $\\pm$ 0.007</td>\n",
       "      <td>0.38 $\\pm$ 0.005</td>\n",
       "      <td>0.288 $\\pm$ 0.004</td>\n",
       "      <td>0.93 $\\pm$ 0.01</td>\n",
       "    </tr>\n",
       "    <tr>\n",
       "      <th>CPoE(3)-SE</th>\n",
       "      <td>175.91 $\\pm$ 3.32</td>\n",
       "      <td>0.59 $\\pm$ 0.009</td>\n",
       "      <td>0.382 $\\pm$ 0.006</td>\n",
       "      <td>0.289 $\\pm$ 0.004</td>\n",
       "      <td>0.92 $\\pm$ 0.01</td>\n",
       "    </tr>\n",
       "    <tr>\n",
       "      <th>CPoE(1)-FLEX</th>\n",
       "      <td>215.81 $\\pm$ 4.6</td>\n",
       "      <td>0.525 $\\pm$ 0.006</td>\n",
       "      <td>0.339 $\\pm$ 0.003</td>\n",
       "      <td>0.261 $\\pm$ 0.002</td>\n",
       "      <td>0.95 $\\pm$ 0.0</td>\n",
       "    </tr>\n",
       "    <tr>\n",
       "      <th>CPoE(2)-FLEX</th>\n",
       "      <td>895.7 $\\pm$ 563.48</td>\n",
       "      <td>0.522 $\\pm$ 0.005</td>\n",
       "      <td>0.336 $\\pm$ 0.003</td>\n",
       "      <td>0.259 $\\pm$ 0.002</td>\n",
       "      <td>0.94 $\\pm$ 0.0</td>\n",
       "    </tr>\n",
       "    <tr>\n",
       "      <th>CPoE(3)-FLEX</th>\n",
       "      <td>353.4 $\\pm$ 4.53</td>\n",
       "      <td>0.522 $\\pm$ 0.005</td>\n",
       "      <td>0.336 $\\pm$ 0.003</td>\n",
       "      <td>0.259 $\\pm$ 0.002</td>\n",
       "      <td>0.93 $\\pm$ 0.0</td>\n",
       "    </tr>\n",
       "    <tr>\n",
       "      <th>MLP(100-100)</th>\n",
       "      <td>397.14 $\\pm$ 34.0</td>\n",
       "      <td>0.591 $\\pm$ 0.006</td>\n",
       "      <td>0.426 $\\pm$ 0.006</td>\n",
       "      <td>0.0 $\\pm$ 0.0</td>\n",
       "      <td>0.0 $\\pm$ 0.0</td>\n",
       "    </tr>\n",
       "    <tr>\n",
       "      <th>MLP(500-500)</th>\n",
       "      <td>4710.19 $\\pm$ 810.95</td>\n",
       "      <td>0.577 $\\pm$ 0.015</td>\n",
       "      <td>0.399 $\\pm$ 0.009</td>\n",
       "      <td>0.0 $\\pm$ 0.0</td>\n",
       "      <td>0.0 $\\pm$ 0.0</td>\n",
       "    </tr>\n",
       "    <tr>\n",
       "      <th>MLP(100-100-100)</th>\n",
       "      <td>639.71 $\\pm$ 44.16</td>\n",
       "      <td>0.585 $\\pm$ 0.006</td>\n",
       "      <td>0.406 $\\pm$ 0.005</td>\n",
       "      <td>0.0 $\\pm$ 0.0</td>\n",
       "      <td>0.0 $\\pm$ 0.0</td>\n",
       "    </tr>\n",
       "    <tr>\n",
       "      <th>XGboost</th>\n",
       "      <td>2.55 $\\pm$ 0.04</td>\n",
       "      <td>0.767 $\\pm$ 0.007</td>\n",
       "      <td>0.615 $\\pm$ 0.007</td>\n",
       "      <td>0.0 $\\pm$ 0.0</td>\n",
       "      <td>0.0 $\\pm$ 0.0</td>\n",
       "    </tr>\n",
       "    <tr>\n",
       "      <th>LinReg</th>\n",
       "      <td>0.14 $\\pm$ 0.0</td>\n",
       "      <td>0.854 $\\pm$ 0.009</td>\n",
       "      <td>0.714 $\\pm$ 0.008</td>\n",
       "      <td>0.0 $\\pm$ 0.0</td>\n",
       "      <td>0.0 $\\pm$ 0.0</td>\n",
       "    </tr>\n",
       "  </tbody>\n",
       "</table>\n",
       "</div>"
      ],
      "text/plain": [
       "                                  time               RMSE               ABSE  \\\n",
       "CPoE(1)-SE            68.54 $\\pm$ 1.67  0.597 $\\pm$ 0.006  0.381 $\\pm$ 0.004   \n",
       "CPoE(2)-SE           102.61 $\\pm$ 1.54   0.59 $\\pm$ 0.007   0.38 $\\pm$ 0.005   \n",
       "CPoE(3)-SE           175.91 $\\pm$ 3.32   0.59 $\\pm$ 0.009  0.382 $\\pm$ 0.006   \n",
       "CPoE(1)-FLEX          215.81 $\\pm$ 4.6  0.525 $\\pm$ 0.006  0.339 $\\pm$ 0.003   \n",
       "CPoE(2)-FLEX        895.7 $\\pm$ 563.48  0.522 $\\pm$ 0.005  0.336 $\\pm$ 0.003   \n",
       "CPoE(3)-FLEX          353.4 $\\pm$ 4.53  0.522 $\\pm$ 0.005  0.336 $\\pm$ 0.003   \n",
       "MLP(100-100)         397.14 $\\pm$ 34.0  0.591 $\\pm$ 0.006  0.426 $\\pm$ 0.006   \n",
       "MLP(500-500)      4710.19 $\\pm$ 810.95  0.577 $\\pm$ 0.015  0.399 $\\pm$ 0.009   \n",
       "MLP(100-100-100)    639.71 $\\pm$ 44.16  0.585 $\\pm$ 0.006  0.406 $\\pm$ 0.005   \n",
       "XGboost                2.55 $\\pm$ 0.04  0.767 $\\pm$ 0.007  0.615 $\\pm$ 0.007   \n",
       "LinReg                  0.14 $\\pm$ 0.0  0.854 $\\pm$ 0.009  0.714 $\\pm$ 0.008   \n",
       "\n",
       "                               CRPS              COV  \n",
       "CPoE(1)-SE        0.289 $\\pm$ 0.003   0.94 $\\pm$ 0.0  \n",
       "CPoE(2)-SE        0.288 $\\pm$ 0.004  0.93 $\\pm$ 0.01  \n",
       "CPoE(3)-SE        0.289 $\\pm$ 0.004  0.92 $\\pm$ 0.01  \n",
       "CPoE(1)-FLEX      0.261 $\\pm$ 0.002   0.95 $\\pm$ 0.0  \n",
       "CPoE(2)-FLEX      0.259 $\\pm$ 0.002   0.94 $\\pm$ 0.0  \n",
       "CPoE(3)-FLEX      0.259 $\\pm$ 0.002   0.93 $\\pm$ 0.0  \n",
       "MLP(100-100)          0.0 $\\pm$ 0.0    0.0 $\\pm$ 0.0  \n",
       "MLP(500-500)          0.0 $\\pm$ 0.0    0.0 $\\pm$ 0.0  \n",
       "MLP(100-100-100)      0.0 $\\pm$ 0.0    0.0 $\\pm$ 0.0  \n",
       "XGboost               0.0 $\\pm$ 0.0    0.0 $\\pm$ 0.0  \n",
       "LinReg                0.0 $\\pm$ 0.0    0.0 $\\pm$ 0.0  "
      ]
     },
     "execution_count": 208,
     "metadata": {},
     "output_type": "execute_result"
    }
   ],
   "source": [
    "# make nice output of all results\n",
    "MMM = pd.concat([Mcpoe1,Mcpoe3, Mmlp1, Mmlp2, Mmlp3, Mxgboost, Mlr]).drop(['KLx1000','errFull'],axis=1)\n",
    "SDMMM = pd.concat([SDMcpoe1,SDMcpoe3, SDMmlp1,SDMmlp2, SDMmlp3, SDMxgboost,SDMlr]).drop(['KLx1000','errFull'],axis=1)   \n",
    "\n",
    "# rename and round\n",
    "MMM.columns = SDMMM.columns = np.array(['time', 'LML', 'CRPS', 'RMSE', 'ABSE', 'NLP', 'COV'])\n",
    "dictA = {'time': 2, 'LML': 1, 'CRPS':3, 'RMSE':3, 'ABSE':3, 'NLP':2, 'COV':2}\n",
    "MMMr = MMM.round(dictA)\n",
    "SDMMMr = SDMMM.round(dictA)\n",
    "\n",
    "FF = MMMr.applymap(str) + ' $\\pm$ '+ SDMMMr.applymap(str)\n",
    "FF.index = ['CPoE(1)-SE','CPoE(2)-SE','CPoE(3)-SE',\n",
    "           'CPoE(1)-FLEX','CPoE(2)-FLEX','CPoE(3)-FLEX',\n",
    "           'MLP(100-100)','MLP(500-500)','MLP(100-100-100)','XGboost', 'LinReg']\n",
    "#FF\n",
    "GG = FF[['time','RMSE','ABSE','CRPS','COV']]\n",
    "GG"
   ]
  },
  {
   "cell_type": "code",
   "execution_count": 209,
   "metadata": {},
   "outputs": [],
   "source": [
    "# save .tex results"
   ]
  },
  {
   "cell_type": "code",
   "execution_count": 210,
   "metadata": {},
   "outputs": [],
   "source": [
    "path_results = '/home/manuel/Dropbox/PhD/notes/CorrelatedProductOfExperts/CPoE_ECML_review/'\n",
    "#path_results = '../results/'"
   ]
  },
  {
   "cell_type": "code",
   "execution_count": 211,
   "metadata": {},
   "outputs": [],
   "source": [
    "file1 = open(path_results+name+'_NONGP.tex','w')\n",
    "file1.write(GG.to_latex(escape=False))\n",
    "file1.close();"
   ]
  },
  {
   "cell_type": "code",
   "execution_count": null,
   "metadata": {},
   "outputs": [],
   "source": []
  }
 ],
 "metadata": {
  "kernelspec": {
   "display_name": "Python 3",
   "language": "python",
   "name": "python3"
  },
  "language_info": {
   "codemirror_mode": {
    "name": "ipython",
    "version": 3
   },
   "file_extension": ".py",
   "mimetype": "text/x-python",
   "name": "python",
   "nbconvert_exporter": "python",
   "pygments_lexer": "ipython3",
   "version": "3.6.13"
  }
 },
 "nbformat": 4,
 "nbformat_minor": 2
}
